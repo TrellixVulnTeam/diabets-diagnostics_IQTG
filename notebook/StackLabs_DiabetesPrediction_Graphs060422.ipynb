{
  "cells": [
    {
      "cell_type": "markdown",
      "metadata": {
        "id": "5JJqqjuLaKRd"
      },
      "source": [
        "**Problema:**\n",
        "Realizar uma previsão de pessoas que podem vir a desenvolver Diabetes com base nas suas características atuais\n",
        "\n",
        "\n",
        "**Links/Fontes de informação**\n",
        "Construindo modelos de previsão de risco para diabetes tipo 2 usando técnicas de aprendizado de máquina : https://www.cdc.gov/pcd/issues/2019/19_0109.htm \n",
        "\n",
        "Questionário Finnish Diabetes Risk Score (FINDRISC): https://linhasdecuidado.saude.gov.br/portal/diabetes-mellitus-tipo-2-(DM2)-no-adulto/unidade-de-atencao-primaria/dm2-cronica/questionario-finnish-diabetes-risk-score\n",
        "\n",
        "**Descrição do Dataset**\n",
        "Dataset Escolhido: diabetes_binary_5050split_health_indicators_BRFSS2015.csv\n",
        "\n",
        "**Informação:** O conjunto de dados originalmente tem 330 recursos (colunas), mas com base na pesquisa de diabetes sobre fatores que influenciam a doença de diabetes e outras condições crônicas de saúde, apenas alguns recursos são incluídos nesta análise.\n",
        "\n",
        "**Fatores de risco importantes: **Pesquisas na área identificaram os seguintes fatores de risco importantes para diabetes e outras doenças crônicas, como doenças cardíacas (não em ordem estrita de importância):\n",
        "\n",
        "*   blood pressure high (pressão arterial (alta))\n",
        "*   cholesterol high (colesterol (alto))\n",
        "*   smoking (fumar)\n",
        "*   diabetes (diabetes)\n",
        "*   obesity (obesidade)\n",
        "*   age (idade)\n",
        "*   sex (sexo)\n",
        "*   race (raça)\n",
        "*   diet (dieta)\n",
        "*   exercise (exercício físico)\n",
        "*   alcohol consumption (consumo de alcool)\n",
        "*   BMI (IMC)\n",
        "*   Household Income (Renda Familiar)\n",
        "*   Marital Status (Estado Civil)\n",
        "*   Sleep (Dormir)\n",
        "*   Time since last checkup (Tempo desde o último check-up)\n",
        "*   Education (Educação)\n",
        "*   Health care coverage (Plano de Saúde)\n",
        "*   Mental Health (Saúde Mental)\n",
        "\n",
        "\n",
        "**As características selecionadas do dataset são: ** \n",
        "\n",
        "Variável de resposta/variável dependente:</br>\n",
        "**Diabetes_binary**\n",
        "*   1 se o entrevistado têm diabete\n",
        "*   0 se o entrevistado nâo têm diabete</br>\n",
        "\n",
        "Variáveis ​​independentes:</br>\n",
        "**HighBP - Pressão alta**</br>\n",
        "Adultos que foram informados de que têm pressão alta por um médico, enfermeiro ou outro profissional de saúde\n",
        "*  1 sim\n",
        "*  0 não\n",
        "\n",
        "**HighChol - Colesterol alto**</br>\n",
        "ALGUMA VEZ você foi informado por um médico, enfermeiro ou outro profissional de saúde que seu colesterol no sangue está alto?\n",
        "*   1 sim\n",
        "*   0 não\n",
        "\n",
        "**CholCheck**\n",
        "\n",
        "**BMI/ IMC - Índice de Massa Corporal (IMC)**</br>\n",
        "Valores: 12-98\n",
        "\n",
        "**Smoker - Fumante**\n",
        "Você fumou pelo menos 100 cigarros em toda a sua vida?\n",
        "*   1 sim\n",
        "*   0 não\n",
        "\n",
        "**Stroke - Derrame**\n",
        "(Já disse) você teve um derrame?\n",
        "*   1 sim\n",
        "*   0 não\n",
        "\n",
        "**Heart Disease or Attack - Doença cardíaca /coronária**</br>\n",
        "Entrevistados que já relataram ter doença cardíaca coronária (DAC) ou infarto do miocárdio (IM)\n",
        "*   1 sim\n",
        "*   0 não\n",
        "\n",
        "**Phys Activity - Atividade Física**\n",
        "Adultos que relataram fazer atividade física ou exercício durante os últimos 30 dias além do trabalho regular\n",
        "*   1 sim\n",
        "*   0 não\n",
        "\n",
        "**Fruits - Dieta de Frutas**\n",
        "Consumir Frutas 1 ou mais vezes por dia\n",
        "*   1 sim\n",
        "*   0 não\n",
        "\n",
        "**Veggies - Dieta de Vegetais**\n",
        "Consuma Legumes 1 ou mais vezes por dia\n",
        "*   1 sim\n",
        "*   0 não\n",
        "\n",
        "**HvyAlcoholConsump - Consumo de álcool**</br>\n",
        "Consumidores Excessivo ​​(homens adultos com mais de 14 doses por semana e mulheres adultas com mais de 7 doses por semana)\n",
        "*   1 sim\n",
        "*   0 não\n",
        "\n",
        "**AnyHealthcare - Plano de Saúde**</br>\n",
        "Você tem algum tipo de cobertura de saúde, incluindo seguro saúde, planos pré-pagos, como HMOs, ou planos governamentais, como Medicare ou Indian Health Service?\n",
        "*   1 sim\n",
        "*   0 não\n",
        "\n",
        "**NoDocbcCost - Despesa Médica**</br>\n",
        "Houve algum momento nos últimos 12 meses em que você precisou consultar um médico, mas não pôde devido ao custo?\n",
        "*   1 sim\n",
        "*   2 não\n",
        "\n",
        "**GenHlth Saúde Geral -Você diria que em geral sua saúde é?**\n",
        "*   1: Excelente\n",
        "*   2: Muito bom\n",
        "*   3: Bom\n",
        "*   4: Razoável\n",
        "*   5: Ruim\n",
        "\n",
        "**MentHlth - Saúde Mental**</br>\n",
        "Agora, pensando em sua saúde mental, que inclui estresse, depressão e problemas com emoções, por quantos dias nos últimos 30 dias sua saúde mental não foi boa?</br>\n",
        "Valores: 1-30</br>\n",
        "</br>\n",
        "**PhysHlth -Saúde Física**</br>\n",
        "Agora, pensando em sua saúde física, que inclui doenças e lesões físicas, por quantos dias nos últimos 30 dias sua saúde física não foi boa?</br>\n",
        "Valores: 1-30</br>\n",
        "</br>\n",
        "**DiffWalk - Dificuldade de Caminhar**</br>\n",
        "Você tem sérias dificuldades para caminhar ou subir escadas?\n",
        "*   1 sim\n",
        "*   2 não\n",
        "\n",
        "**Sex - Sexo**\n",
        "Indica o sexo do entrevistado.\n",
        "*   0: Masculino\n",
        "*   1: Feminino\n",
        "\n",
        "**Age - Idade**</br>\n",
        "14 categorias de idade\n",
        "*   1: De 18 a 24\n",
        "*   2: De 25 a 29\n",
        "*   3: De 30 a 34\n",
        "*   4: De 35 a 39\n",
        "*   5: De 40 a 44\n",
        "*   6: De 45 a 49\n",
        "*   7: De 50 a 54\n",
        "*   8: De 55 a 59\n",
        "*   9: De 60 a 64\n",
        "*   10: De 65 a 69\n",
        "*   11: De 70 a 74\n",
        "*   12: De 75 a 79\n",
        "*   13: De 80 ou mais\n",
        "*   14: Não sabe/Recusou-se/Falta Dado/7 <= Idade <= 9\n",
        "\n",
        "\n",
        "**Education - Educação**</br>\n",
        "Qual é a maior série ou ano de escola que você concluiu?\n",
        "*   1: Não concluiu o ensino médio\n",
        "*   2: Concluiu o ensino médio\n",
        "*   3: Frequentou a faculdade\n",
        "*   4: Concluiu a faculdade\n",
        "\n",
        "\n",
        "**Income - Renda Familiar**</br>\n",
        "Sua renda familiar anual é de todas as fontes: (Se o respondente recusar em qualquer nível de renda, codifique \"Recusado\".)\n",
        "\n",
        "*   1: Menor que $10 mil\n",
        "*   2: 15 mil\n",
        "\n",
        "*   3: 20 mil\n",
        "*   4: 25 mil\n",
        "*   5: 35 mil\n",
        "*   6: 50 mil\n",
        "*   7: 75 mil\n",
        "*   8: Maior que $ 75 mil\n",
        "\n",
        "\n"
      ]
    },
    {
      "cell_type": "code",
      "execution_count": 2,
      "metadata": {
        "id": "ilQ6ezkRaonH"
      },
      "outputs": [],
      "source": [
        "import pandas as pd\n",
        "import numpy as np\n",
        "import seaborn as sns\n",
        "\n",
        "%matplotlib inline \n",
        "\n",
        "import matplotlib as mpl\n",
        "import matplotlib.pyplot as plt\n",
        "mpl.style.use('ggplot')"
      ]
    },
    {
      "cell_type": "code",
      "execution_count": 3,
      "metadata": {
        "id": "6P-Ve_NAZ5t2"
      },
      "outputs": [],
      "source": [
        "url = \"https://raw.githubusercontent.com/josue-macena-jr/diabets-diagnostics/main/datasets/diabetes_binary_5050split_health_indicators_BRFSS2015.csv\""
      ]
    },
    {
      "cell_type": "code",
      "execution_count": 4,
      "metadata": {
        "id": "BAlHM7bd21ka"
      },
      "outputs": [],
      "source": [
        "dados = pd.read_csv(url) #pd.read_csv('/content/diabetes_binary_5050split_health_indicators_BRFSS2015.csv')"
      ]
    },
    {
      "cell_type": "code",
      "execution_count": 5,
      "metadata": {
        "colab": {
          "base_uri": "https://localhost:8080/"
        },
        "id": "lpg9oItTgjrI",
        "outputId": "86f7d41b-42ed-4da7-8a48-c7f224e61607"
      },
      "outputs": [
        {
          "data": {
            "text/plain": [
              "(70692, 22)"
            ]
          },
          "execution_count": 5,
          "metadata": {},
          "output_type": "execute_result"
        }
      ],
      "source": [
        "# Verificando formato do dataset: 70692 linhas, 22 colunas\n",
        "dados.shape"
      ]
    },
    {
      "cell_type": "code",
      "execution_count": 6,
      "metadata": {
        "colab": {
          "base_uri": "https://localhost:8080/"
        },
        "id": "BJHY4-h9VjSv",
        "outputId": "16ab0645-732b-468c-f9f6-ba4730659504"
      },
      "outputs": [
        {
          "name": "stdout",
          "output_type": "stream",
          "text": [
            "<class 'pandas.core.frame.DataFrame'>\n",
            "RangeIndex: 70692 entries, 0 to 70691\n",
            "Data columns (total 22 columns):\n",
            " #   Column                Non-Null Count  Dtype  \n",
            "---  ------                --------------  -----  \n",
            " 0   Diabetes_binary       70692 non-null  float64\n",
            " 1   HighBP                70692 non-null  float64\n",
            " 2   HighChol              70692 non-null  float64\n",
            " 3   CholCheck             70692 non-null  float64\n",
            " 4   BMI                   70692 non-null  float64\n",
            " 5   Smoker                70692 non-null  float64\n",
            " 6   Stroke                70692 non-null  float64\n",
            " 7   HeartDiseaseorAttack  70692 non-null  float64\n",
            " 8   PhysActivity          70692 non-null  float64\n",
            " 9   Fruits                70692 non-null  float64\n",
            " 10  Veggies               70692 non-null  float64\n",
            " 11  HvyAlcoholConsump     70692 non-null  float64\n",
            " 12  AnyHealthcare         70692 non-null  float64\n",
            " 13  NoDocbcCost           70692 non-null  float64\n",
            " 14  GenHlth               70692 non-null  float64\n",
            " 15  MentHlth              70692 non-null  float64\n",
            " 16  PhysHlth              70692 non-null  float64\n",
            " 17  DiffWalk              70692 non-null  float64\n",
            " 18  Sex                   70692 non-null  float64\n",
            " 19  Age                   70692 non-null  float64\n",
            " 20  Education             70692 non-null  float64\n",
            " 21  Income                70692 non-null  float64\n",
            "dtypes: float64(22)\n",
            "memory usage: 11.9 MB\n"
          ]
        }
      ],
      "source": [
        "# Informações do dataset: sem nulos\n",
        "dados.info()"
      ]
    },
    {
      "cell_type": "code",
      "execution_count": 7,
      "metadata": {
        "colab": {
          "base_uri": "https://localhost:8080/"
        },
        "id": "yRF7BzyUW1lN",
        "outputId": "760c3958-e5df-48c5-fea3-bedbcc712413"
      },
      "outputs": [
        {
          "data": {
            "text/plain": [
              "Diabetes_binary          2\n",
              "HighBP                   2\n",
              "HighChol                 2\n",
              "CholCheck                2\n",
              "BMI                     80\n",
              "Smoker                   2\n",
              "Stroke                   2\n",
              "HeartDiseaseorAttack     2\n",
              "PhysActivity             2\n",
              "Fruits                   2\n",
              "Veggies                  2\n",
              "HvyAlcoholConsump        2\n",
              "AnyHealthcare            2\n",
              "NoDocbcCost              2\n",
              "GenHlth                  5\n",
              "MentHlth                31\n",
              "PhysHlth                31\n",
              "DiffWalk                 2\n",
              "Sex                      2\n",
              "Age                     13\n",
              "Education                6\n",
              "Income                   8\n",
              "dtype: int64"
            ]
          },
          "execution_count": 7,
          "metadata": {},
          "output_type": "execute_result"
        }
      ],
      "source": [
        "dados.nunique()"
      ]
    },
    {
      "cell_type": "code",
      "execution_count": 8,
      "metadata": {
        "colab": {
          "base_uri": "https://localhost:8080/",
          "height": 392
        },
        "id": "9bZdNf_dgjoL",
        "outputId": "1789fede-09ad-45ba-979e-4c77de828e62"
      },
      "outputs": [
        {
          "data": {
            "text/html": [
              "<div>\n",
              "<style scoped>\n",
              "    .dataframe tbody tr th:only-of-type {\n",
              "        vertical-align: middle;\n",
              "    }\n",
              "\n",
              "    .dataframe tbody tr th {\n",
              "        vertical-align: top;\n",
              "    }\n",
              "\n",
              "    .dataframe thead th {\n",
              "        text-align: right;\n",
              "    }\n",
              "</style>\n",
              "<table border=\"1\" class=\"dataframe\">\n",
              "  <thead>\n",
              "    <tr style=\"text-align: right;\">\n",
              "      <th></th>\n",
              "      <th>Diabetes_binary</th>\n",
              "      <th>HighBP</th>\n",
              "      <th>HighChol</th>\n",
              "      <th>CholCheck</th>\n",
              "      <th>BMI</th>\n",
              "      <th>Smoker</th>\n",
              "      <th>Stroke</th>\n",
              "      <th>HeartDiseaseorAttack</th>\n",
              "      <th>PhysActivity</th>\n",
              "      <th>Fruits</th>\n",
              "      <th>...</th>\n",
              "      <th>AnyHealthcare</th>\n",
              "      <th>NoDocbcCost</th>\n",
              "      <th>GenHlth</th>\n",
              "      <th>MentHlth</th>\n",
              "      <th>PhysHlth</th>\n",
              "      <th>DiffWalk</th>\n",
              "      <th>Sex</th>\n",
              "      <th>Age</th>\n",
              "      <th>Education</th>\n",
              "      <th>Income</th>\n",
              "    </tr>\n",
              "  </thead>\n",
              "  <tbody>\n",
              "    <tr>\n",
              "      <th>0</th>\n",
              "      <td>0.0</td>\n",
              "      <td>1.0</td>\n",
              "      <td>0.0</td>\n",
              "      <td>1.0</td>\n",
              "      <td>26.0</td>\n",
              "      <td>0.0</td>\n",
              "      <td>0.0</td>\n",
              "      <td>0.0</td>\n",
              "      <td>1.0</td>\n",
              "      <td>0.0</td>\n",
              "      <td>...</td>\n",
              "      <td>1.0</td>\n",
              "      <td>0.0</td>\n",
              "      <td>3.0</td>\n",
              "      <td>5.0</td>\n",
              "      <td>30.0</td>\n",
              "      <td>0.0</td>\n",
              "      <td>1.0</td>\n",
              "      <td>4.0</td>\n",
              "      <td>6.0</td>\n",
              "      <td>8.0</td>\n",
              "    </tr>\n",
              "    <tr>\n",
              "      <th>1</th>\n",
              "      <td>0.0</td>\n",
              "      <td>1.0</td>\n",
              "      <td>1.0</td>\n",
              "      <td>1.0</td>\n",
              "      <td>26.0</td>\n",
              "      <td>1.0</td>\n",
              "      <td>1.0</td>\n",
              "      <td>0.0</td>\n",
              "      <td>0.0</td>\n",
              "      <td>1.0</td>\n",
              "      <td>...</td>\n",
              "      <td>1.0</td>\n",
              "      <td>0.0</td>\n",
              "      <td>3.0</td>\n",
              "      <td>0.0</td>\n",
              "      <td>0.0</td>\n",
              "      <td>0.0</td>\n",
              "      <td>1.0</td>\n",
              "      <td>12.0</td>\n",
              "      <td>6.0</td>\n",
              "      <td>8.0</td>\n",
              "    </tr>\n",
              "    <tr>\n",
              "      <th>2</th>\n",
              "      <td>0.0</td>\n",
              "      <td>0.0</td>\n",
              "      <td>0.0</td>\n",
              "      <td>1.0</td>\n",
              "      <td>26.0</td>\n",
              "      <td>0.0</td>\n",
              "      <td>0.0</td>\n",
              "      <td>0.0</td>\n",
              "      <td>1.0</td>\n",
              "      <td>1.0</td>\n",
              "      <td>...</td>\n",
              "      <td>1.0</td>\n",
              "      <td>0.0</td>\n",
              "      <td>1.0</td>\n",
              "      <td>0.0</td>\n",
              "      <td>10.0</td>\n",
              "      <td>0.0</td>\n",
              "      <td>1.0</td>\n",
              "      <td>13.0</td>\n",
              "      <td>6.0</td>\n",
              "      <td>8.0</td>\n",
              "    </tr>\n",
              "    <tr>\n",
              "      <th>3</th>\n",
              "      <td>0.0</td>\n",
              "      <td>1.0</td>\n",
              "      <td>1.0</td>\n",
              "      <td>1.0</td>\n",
              "      <td>28.0</td>\n",
              "      <td>1.0</td>\n",
              "      <td>0.0</td>\n",
              "      <td>0.0</td>\n",
              "      <td>1.0</td>\n",
              "      <td>1.0</td>\n",
              "      <td>...</td>\n",
              "      <td>1.0</td>\n",
              "      <td>0.0</td>\n",
              "      <td>3.0</td>\n",
              "      <td>0.0</td>\n",
              "      <td>3.0</td>\n",
              "      <td>0.0</td>\n",
              "      <td>1.0</td>\n",
              "      <td>11.0</td>\n",
              "      <td>6.0</td>\n",
              "      <td>8.0</td>\n",
              "    </tr>\n",
              "    <tr>\n",
              "      <th>4</th>\n",
              "      <td>0.0</td>\n",
              "      <td>0.0</td>\n",
              "      <td>0.0</td>\n",
              "      <td>1.0</td>\n",
              "      <td>29.0</td>\n",
              "      <td>1.0</td>\n",
              "      <td>0.0</td>\n",
              "      <td>0.0</td>\n",
              "      <td>1.0</td>\n",
              "      <td>1.0</td>\n",
              "      <td>...</td>\n",
              "      <td>1.0</td>\n",
              "      <td>0.0</td>\n",
              "      <td>2.0</td>\n",
              "      <td>0.0</td>\n",
              "      <td>0.0</td>\n",
              "      <td>0.0</td>\n",
              "      <td>0.0</td>\n",
              "      <td>8.0</td>\n",
              "      <td>5.0</td>\n",
              "      <td>8.0</td>\n",
              "    </tr>\n",
              "    <tr>\n",
              "      <th>5</th>\n",
              "      <td>0.0</td>\n",
              "      <td>0.0</td>\n",
              "      <td>0.0</td>\n",
              "      <td>1.0</td>\n",
              "      <td>18.0</td>\n",
              "      <td>0.0</td>\n",
              "      <td>0.0</td>\n",
              "      <td>0.0</td>\n",
              "      <td>1.0</td>\n",
              "      <td>1.0</td>\n",
              "      <td>...</td>\n",
              "      <td>0.0</td>\n",
              "      <td>0.0</td>\n",
              "      <td>2.0</td>\n",
              "      <td>7.0</td>\n",
              "      <td>0.0</td>\n",
              "      <td>0.0</td>\n",
              "      <td>0.0</td>\n",
              "      <td>1.0</td>\n",
              "      <td>4.0</td>\n",
              "      <td>7.0</td>\n",
              "    </tr>\n",
              "    <tr>\n",
              "      <th>6</th>\n",
              "      <td>0.0</td>\n",
              "      <td>0.0</td>\n",
              "      <td>1.0</td>\n",
              "      <td>1.0</td>\n",
              "      <td>26.0</td>\n",
              "      <td>1.0</td>\n",
              "      <td>0.0</td>\n",
              "      <td>0.0</td>\n",
              "      <td>1.0</td>\n",
              "      <td>1.0</td>\n",
              "      <td>...</td>\n",
              "      <td>1.0</td>\n",
              "      <td>0.0</td>\n",
              "      <td>1.0</td>\n",
              "      <td>0.0</td>\n",
              "      <td>0.0</td>\n",
              "      <td>0.0</td>\n",
              "      <td>1.0</td>\n",
              "      <td>13.0</td>\n",
              "      <td>5.0</td>\n",
              "      <td>6.0</td>\n",
              "    </tr>\n",
              "    <tr>\n",
              "      <th>7</th>\n",
              "      <td>0.0</td>\n",
              "      <td>0.0</td>\n",
              "      <td>0.0</td>\n",
              "      <td>1.0</td>\n",
              "      <td>31.0</td>\n",
              "      <td>1.0</td>\n",
              "      <td>0.0</td>\n",
              "      <td>0.0</td>\n",
              "      <td>0.0</td>\n",
              "      <td>1.0</td>\n",
              "      <td>...</td>\n",
              "      <td>1.0</td>\n",
              "      <td>0.0</td>\n",
              "      <td>4.0</td>\n",
              "      <td>0.0</td>\n",
              "      <td>0.0</td>\n",
              "      <td>0.0</td>\n",
              "      <td>1.0</td>\n",
              "      <td>6.0</td>\n",
              "      <td>4.0</td>\n",
              "      <td>3.0</td>\n",
              "    </tr>\n",
              "    <tr>\n",
              "      <th>8</th>\n",
              "      <td>0.0</td>\n",
              "      <td>0.0</td>\n",
              "      <td>0.0</td>\n",
              "      <td>1.0</td>\n",
              "      <td>32.0</td>\n",
              "      <td>0.0</td>\n",
              "      <td>0.0</td>\n",
              "      <td>0.0</td>\n",
              "      <td>1.0</td>\n",
              "      <td>1.0</td>\n",
              "      <td>...</td>\n",
              "      <td>1.0</td>\n",
              "      <td>0.0</td>\n",
              "      <td>3.0</td>\n",
              "      <td>0.0</td>\n",
              "      <td>0.0</td>\n",
              "      <td>0.0</td>\n",
              "      <td>0.0</td>\n",
              "      <td>3.0</td>\n",
              "      <td>6.0</td>\n",
              "      <td>8.0</td>\n",
              "    </tr>\n",
              "    <tr>\n",
              "      <th>9</th>\n",
              "      <td>0.0</td>\n",
              "      <td>0.0</td>\n",
              "      <td>0.0</td>\n",
              "      <td>1.0</td>\n",
              "      <td>27.0</td>\n",
              "      <td>1.0</td>\n",
              "      <td>0.0</td>\n",
              "      <td>0.0</td>\n",
              "      <td>0.0</td>\n",
              "      <td>1.0</td>\n",
              "      <td>...</td>\n",
              "      <td>1.0</td>\n",
              "      <td>0.0</td>\n",
              "      <td>3.0</td>\n",
              "      <td>0.0</td>\n",
              "      <td>6.0</td>\n",
              "      <td>0.0</td>\n",
              "      <td>1.0</td>\n",
              "      <td>6.0</td>\n",
              "      <td>4.0</td>\n",
              "      <td>4.0</td>\n",
              "    </tr>\n",
              "  </tbody>\n",
              "</table>\n",
              "<p>10 rows × 22 columns</p>\n",
              "</div>"
            ],
            "text/plain": [
              "   Diabetes_binary  HighBP  HighChol  CholCheck   BMI  Smoker  Stroke  \\\n",
              "0              0.0     1.0       0.0        1.0  26.0     0.0     0.0   \n",
              "1              0.0     1.0       1.0        1.0  26.0     1.0     1.0   \n",
              "2              0.0     0.0       0.0        1.0  26.0     0.0     0.0   \n",
              "3              0.0     1.0       1.0        1.0  28.0     1.0     0.0   \n",
              "4              0.0     0.0       0.0        1.0  29.0     1.0     0.0   \n",
              "5              0.0     0.0       0.0        1.0  18.0     0.0     0.0   \n",
              "6              0.0     0.0       1.0        1.0  26.0     1.0     0.0   \n",
              "7              0.0     0.0       0.0        1.0  31.0     1.0     0.0   \n",
              "8              0.0     0.0       0.0        1.0  32.0     0.0     0.0   \n",
              "9              0.0     0.0       0.0        1.0  27.0     1.0     0.0   \n",
              "\n",
              "   HeartDiseaseorAttack  PhysActivity  Fruits  ...  AnyHealthcare  \\\n",
              "0                   0.0           1.0     0.0  ...            1.0   \n",
              "1                   0.0           0.0     1.0  ...            1.0   \n",
              "2                   0.0           1.0     1.0  ...            1.0   \n",
              "3                   0.0           1.0     1.0  ...            1.0   \n",
              "4                   0.0           1.0     1.0  ...            1.0   \n",
              "5                   0.0           1.0     1.0  ...            0.0   \n",
              "6                   0.0           1.0     1.0  ...            1.0   \n",
              "7                   0.0           0.0     1.0  ...            1.0   \n",
              "8                   0.0           1.0     1.0  ...            1.0   \n",
              "9                   0.0           0.0     1.0  ...            1.0   \n",
              "\n",
              "   NoDocbcCost  GenHlth  MentHlth  PhysHlth  DiffWalk  Sex   Age  Education  \\\n",
              "0          0.0      3.0       5.0      30.0       0.0  1.0   4.0        6.0   \n",
              "1          0.0      3.0       0.0       0.0       0.0  1.0  12.0        6.0   \n",
              "2          0.0      1.0       0.0      10.0       0.0  1.0  13.0        6.0   \n",
              "3          0.0      3.0       0.0       3.0       0.0  1.0  11.0        6.0   \n",
              "4          0.0      2.0       0.0       0.0       0.0  0.0   8.0        5.0   \n",
              "5          0.0      2.0       7.0       0.0       0.0  0.0   1.0        4.0   \n",
              "6          0.0      1.0       0.0       0.0       0.0  1.0  13.0        5.0   \n",
              "7          0.0      4.0       0.0       0.0       0.0  1.0   6.0        4.0   \n",
              "8          0.0      3.0       0.0       0.0       0.0  0.0   3.0        6.0   \n",
              "9          0.0      3.0       0.0       6.0       0.0  1.0   6.0        4.0   \n",
              "\n",
              "   Income  \n",
              "0     8.0  \n",
              "1     8.0  \n",
              "2     8.0  \n",
              "3     8.0  \n",
              "4     8.0  \n",
              "5     7.0  \n",
              "6     6.0  \n",
              "7     3.0  \n",
              "8     8.0  \n",
              "9     4.0  \n",
              "\n",
              "[10 rows x 22 columns]"
            ]
          },
          "execution_count": 8,
          "metadata": {},
          "output_type": "execute_result"
        }
      ],
      "source": [
        "# 10 primeiras linhas da tabela\n",
        "dados.head(10)"
      ]
    },
    {
      "cell_type": "code",
      "execution_count": 9,
      "metadata": {
        "colab": {
          "base_uri": "https://localhost:8080/",
          "height": 394
        },
        "id": "T2qSjo-ugjtp",
        "outputId": "1f7e03b2-0d1c-49f4-cf8a-35015244765a"
      },
      "outputs": [
        {
          "data": {
            "text/html": [
              "<div>\n",
              "<style scoped>\n",
              "    .dataframe tbody tr th:only-of-type {\n",
              "        vertical-align: middle;\n",
              "    }\n",
              "\n",
              "    .dataframe tbody tr th {\n",
              "        vertical-align: top;\n",
              "    }\n",
              "\n",
              "    .dataframe thead th {\n",
              "        text-align: right;\n",
              "    }\n",
              "</style>\n",
              "<table border=\"1\" class=\"dataframe\">\n",
              "  <thead>\n",
              "    <tr style=\"text-align: right;\">\n",
              "      <th></th>\n",
              "      <th>Diabetes_binary</th>\n",
              "      <th>HighBP</th>\n",
              "      <th>HighChol</th>\n",
              "      <th>CholCheck</th>\n",
              "      <th>BMI</th>\n",
              "      <th>Smoker</th>\n",
              "      <th>Stroke</th>\n",
              "      <th>HeartDiseaseorAttack</th>\n",
              "      <th>PhysActivity</th>\n",
              "      <th>Fruits</th>\n",
              "      <th>...</th>\n",
              "      <th>AnyHealthcare</th>\n",
              "      <th>NoDocbcCost</th>\n",
              "      <th>GenHlth</th>\n",
              "      <th>MentHlth</th>\n",
              "      <th>PhysHlth</th>\n",
              "      <th>DiffWalk</th>\n",
              "      <th>Sex</th>\n",
              "      <th>Age</th>\n",
              "      <th>Education</th>\n",
              "      <th>Income</th>\n",
              "    </tr>\n",
              "  </thead>\n",
              "  <tbody>\n",
              "    <tr>\n",
              "      <th>count</th>\n",
              "      <td>70692.000000</td>\n",
              "      <td>70692.000000</td>\n",
              "      <td>70692.000000</td>\n",
              "      <td>70692.000000</td>\n",
              "      <td>70692.000000</td>\n",
              "      <td>70692.000000</td>\n",
              "      <td>70692.000000</td>\n",
              "      <td>70692.000000</td>\n",
              "      <td>70692.000000</td>\n",
              "      <td>70692.000000</td>\n",
              "      <td>...</td>\n",
              "      <td>70692.000000</td>\n",
              "      <td>70692.000000</td>\n",
              "      <td>70692.000000</td>\n",
              "      <td>70692.000000</td>\n",
              "      <td>70692.000000</td>\n",
              "      <td>70692.000000</td>\n",
              "      <td>70692.000000</td>\n",
              "      <td>70692.000000</td>\n",
              "      <td>70692.000000</td>\n",
              "      <td>70692.000000</td>\n",
              "    </tr>\n",
              "    <tr>\n",
              "      <th>mean</th>\n",
              "      <td>0.500000</td>\n",
              "      <td>0.563458</td>\n",
              "      <td>0.525703</td>\n",
              "      <td>0.975259</td>\n",
              "      <td>29.856985</td>\n",
              "      <td>0.475273</td>\n",
              "      <td>0.062171</td>\n",
              "      <td>0.147810</td>\n",
              "      <td>0.703036</td>\n",
              "      <td>0.611795</td>\n",
              "      <td>...</td>\n",
              "      <td>0.954960</td>\n",
              "      <td>0.093914</td>\n",
              "      <td>2.837082</td>\n",
              "      <td>3.752037</td>\n",
              "      <td>5.810417</td>\n",
              "      <td>0.252730</td>\n",
              "      <td>0.456997</td>\n",
              "      <td>8.584055</td>\n",
              "      <td>4.920953</td>\n",
              "      <td>5.698311</td>\n",
              "    </tr>\n",
              "    <tr>\n",
              "      <th>std</th>\n",
              "      <td>0.500004</td>\n",
              "      <td>0.495960</td>\n",
              "      <td>0.499342</td>\n",
              "      <td>0.155336</td>\n",
              "      <td>7.113954</td>\n",
              "      <td>0.499392</td>\n",
              "      <td>0.241468</td>\n",
              "      <td>0.354914</td>\n",
              "      <td>0.456924</td>\n",
              "      <td>0.487345</td>\n",
              "      <td>...</td>\n",
              "      <td>0.207394</td>\n",
              "      <td>0.291712</td>\n",
              "      <td>1.113565</td>\n",
              "      <td>8.155627</td>\n",
              "      <td>10.062261</td>\n",
              "      <td>0.434581</td>\n",
              "      <td>0.498151</td>\n",
              "      <td>2.852153</td>\n",
              "      <td>1.029081</td>\n",
              "      <td>2.175196</td>\n",
              "    </tr>\n",
              "    <tr>\n",
              "      <th>min</th>\n",
              "      <td>0.000000</td>\n",
              "      <td>0.000000</td>\n",
              "      <td>0.000000</td>\n",
              "      <td>0.000000</td>\n",
              "      <td>12.000000</td>\n",
              "      <td>0.000000</td>\n",
              "      <td>0.000000</td>\n",
              "      <td>0.000000</td>\n",
              "      <td>0.000000</td>\n",
              "      <td>0.000000</td>\n",
              "      <td>...</td>\n",
              "      <td>0.000000</td>\n",
              "      <td>0.000000</td>\n",
              "      <td>1.000000</td>\n",
              "      <td>0.000000</td>\n",
              "      <td>0.000000</td>\n",
              "      <td>0.000000</td>\n",
              "      <td>0.000000</td>\n",
              "      <td>1.000000</td>\n",
              "      <td>1.000000</td>\n",
              "      <td>1.000000</td>\n",
              "    </tr>\n",
              "    <tr>\n",
              "      <th>25%</th>\n",
              "      <td>0.000000</td>\n",
              "      <td>0.000000</td>\n",
              "      <td>0.000000</td>\n",
              "      <td>1.000000</td>\n",
              "      <td>25.000000</td>\n",
              "      <td>0.000000</td>\n",
              "      <td>0.000000</td>\n",
              "      <td>0.000000</td>\n",
              "      <td>0.000000</td>\n",
              "      <td>0.000000</td>\n",
              "      <td>...</td>\n",
              "      <td>1.000000</td>\n",
              "      <td>0.000000</td>\n",
              "      <td>2.000000</td>\n",
              "      <td>0.000000</td>\n",
              "      <td>0.000000</td>\n",
              "      <td>0.000000</td>\n",
              "      <td>0.000000</td>\n",
              "      <td>7.000000</td>\n",
              "      <td>4.000000</td>\n",
              "      <td>4.000000</td>\n",
              "    </tr>\n",
              "    <tr>\n",
              "      <th>50%</th>\n",
              "      <td>0.500000</td>\n",
              "      <td>1.000000</td>\n",
              "      <td>1.000000</td>\n",
              "      <td>1.000000</td>\n",
              "      <td>29.000000</td>\n",
              "      <td>0.000000</td>\n",
              "      <td>0.000000</td>\n",
              "      <td>0.000000</td>\n",
              "      <td>1.000000</td>\n",
              "      <td>1.000000</td>\n",
              "      <td>...</td>\n",
              "      <td>1.000000</td>\n",
              "      <td>0.000000</td>\n",
              "      <td>3.000000</td>\n",
              "      <td>0.000000</td>\n",
              "      <td>0.000000</td>\n",
              "      <td>0.000000</td>\n",
              "      <td>0.000000</td>\n",
              "      <td>9.000000</td>\n",
              "      <td>5.000000</td>\n",
              "      <td>6.000000</td>\n",
              "    </tr>\n",
              "    <tr>\n",
              "      <th>75%</th>\n",
              "      <td>1.000000</td>\n",
              "      <td>1.000000</td>\n",
              "      <td>1.000000</td>\n",
              "      <td>1.000000</td>\n",
              "      <td>33.000000</td>\n",
              "      <td>1.000000</td>\n",
              "      <td>0.000000</td>\n",
              "      <td>0.000000</td>\n",
              "      <td>1.000000</td>\n",
              "      <td>1.000000</td>\n",
              "      <td>...</td>\n",
              "      <td>1.000000</td>\n",
              "      <td>0.000000</td>\n",
              "      <td>4.000000</td>\n",
              "      <td>2.000000</td>\n",
              "      <td>6.000000</td>\n",
              "      <td>1.000000</td>\n",
              "      <td>1.000000</td>\n",
              "      <td>11.000000</td>\n",
              "      <td>6.000000</td>\n",
              "      <td>8.000000</td>\n",
              "    </tr>\n",
              "    <tr>\n",
              "      <th>max</th>\n",
              "      <td>1.000000</td>\n",
              "      <td>1.000000</td>\n",
              "      <td>1.000000</td>\n",
              "      <td>1.000000</td>\n",
              "      <td>98.000000</td>\n",
              "      <td>1.000000</td>\n",
              "      <td>1.000000</td>\n",
              "      <td>1.000000</td>\n",
              "      <td>1.000000</td>\n",
              "      <td>1.000000</td>\n",
              "      <td>...</td>\n",
              "      <td>1.000000</td>\n",
              "      <td>1.000000</td>\n",
              "      <td>5.000000</td>\n",
              "      <td>30.000000</td>\n",
              "      <td>30.000000</td>\n",
              "      <td>1.000000</td>\n",
              "      <td>1.000000</td>\n",
              "      <td>13.000000</td>\n",
              "      <td>6.000000</td>\n",
              "      <td>8.000000</td>\n",
              "    </tr>\n",
              "  </tbody>\n",
              "</table>\n",
              "<p>8 rows × 22 columns</p>\n",
              "</div>"
            ],
            "text/plain": [
              "       Diabetes_binary        HighBP      HighChol     CholCheck  \\\n",
              "count     70692.000000  70692.000000  70692.000000  70692.000000   \n",
              "mean          0.500000      0.563458      0.525703      0.975259   \n",
              "std           0.500004      0.495960      0.499342      0.155336   \n",
              "min           0.000000      0.000000      0.000000      0.000000   \n",
              "25%           0.000000      0.000000      0.000000      1.000000   \n",
              "50%           0.500000      1.000000      1.000000      1.000000   \n",
              "75%           1.000000      1.000000      1.000000      1.000000   \n",
              "max           1.000000      1.000000      1.000000      1.000000   \n",
              "\n",
              "                BMI        Smoker        Stroke  HeartDiseaseorAttack  \\\n",
              "count  70692.000000  70692.000000  70692.000000          70692.000000   \n",
              "mean      29.856985      0.475273      0.062171              0.147810   \n",
              "std        7.113954      0.499392      0.241468              0.354914   \n",
              "min       12.000000      0.000000      0.000000              0.000000   \n",
              "25%       25.000000      0.000000      0.000000              0.000000   \n",
              "50%       29.000000      0.000000      0.000000              0.000000   \n",
              "75%       33.000000      1.000000      0.000000              0.000000   \n",
              "max       98.000000      1.000000      1.000000              1.000000   \n",
              "\n",
              "       PhysActivity        Fruits  ...  AnyHealthcare   NoDocbcCost  \\\n",
              "count  70692.000000  70692.000000  ...   70692.000000  70692.000000   \n",
              "mean       0.703036      0.611795  ...       0.954960      0.093914   \n",
              "std        0.456924      0.487345  ...       0.207394      0.291712   \n",
              "min        0.000000      0.000000  ...       0.000000      0.000000   \n",
              "25%        0.000000      0.000000  ...       1.000000      0.000000   \n",
              "50%        1.000000      1.000000  ...       1.000000      0.000000   \n",
              "75%        1.000000      1.000000  ...       1.000000      0.000000   \n",
              "max        1.000000      1.000000  ...       1.000000      1.000000   \n",
              "\n",
              "            GenHlth      MentHlth      PhysHlth      DiffWalk           Sex  \\\n",
              "count  70692.000000  70692.000000  70692.000000  70692.000000  70692.000000   \n",
              "mean       2.837082      3.752037      5.810417      0.252730      0.456997   \n",
              "std        1.113565      8.155627     10.062261      0.434581      0.498151   \n",
              "min        1.000000      0.000000      0.000000      0.000000      0.000000   \n",
              "25%        2.000000      0.000000      0.000000      0.000000      0.000000   \n",
              "50%        3.000000      0.000000      0.000000      0.000000      0.000000   \n",
              "75%        4.000000      2.000000      6.000000      1.000000      1.000000   \n",
              "max        5.000000     30.000000     30.000000      1.000000      1.000000   \n",
              "\n",
              "                Age     Education        Income  \n",
              "count  70692.000000  70692.000000  70692.000000  \n",
              "mean       8.584055      4.920953      5.698311  \n",
              "std        2.852153      1.029081      2.175196  \n",
              "min        1.000000      1.000000      1.000000  \n",
              "25%        7.000000      4.000000      4.000000  \n",
              "50%        9.000000      5.000000      6.000000  \n",
              "75%       11.000000      6.000000      8.000000  \n",
              "max       13.000000      6.000000      8.000000  \n",
              "\n",
              "[8 rows x 22 columns]"
            ]
          },
          "execution_count": 9,
          "metadata": {},
          "output_type": "execute_result"
        }
      ],
      "source": [
        "# Descrição estatística do dataset\n",
        "dados.describe()"
      ]
    },
    {
      "cell_type": "code",
      "execution_count": 10,
      "metadata": {
        "id": "OwVpM6wWqHOB"
      },
      "outputs": [],
      "source": [
        "# Renomeando as colunas para Português\n",
        "df_diabetes = dados.rename(columns = {'Diabetes_binary':'Diabetes', \n",
        "                                         'HighBP':'PressAlta',  \n",
        "                                         'HighChol':'CholAlto',\n",
        "                                         'CholCheck':'ColCheck', \n",
        "                                         'BMI':'IMC', \n",
        "                                         'Smoker':'Fumante', \n",
        "                                         'Stroke':'Derrame',\n",
        "                                         'HeartDiseaseorAttack':'CoracaoEnf', \n",
        "                                         'PhysActivity':'AtivFisica', \n",
        "                                         'Fruits':'Frutas',\n",
        "                                         'Veggies':\"Vegetais\", \n",
        "                                         'HvyAlcoholConsump':'ConsAlcool', \n",
        "                                         'AnyHealthcare':'PlSaude',\n",
        "                                         'NoDocbcCost':'DespMedica', \n",
        "                                         'GenHlth':'SdGeral',\n",
        "                                         'MentHlth':'SdMental',\n",
        "                                         'PhysHlth':'SdFisica',\n",
        "                                         'DiffWalk':'DifCaminhar', \n",
        "                                         'Sex':'Sexo',\n",
        "                                         'Age':'Idade',\n",
        "                                         'Education':'Educacao',\n",
        "                                         'Income':'Renda' })"
      ]
    },
    {
      "cell_type": "code",
      "execution_count": 11,
      "metadata": {
        "colab": {
          "base_uri": "https://localhost:8080/",
          "height": 236
        },
        "id": "VLvba-_es3r0",
        "outputId": "9ea968f7-a214-4d5b-bcd1-19acc61b8b76"
      },
      "outputs": [
        {
          "data": {
            "text/html": [
              "<div>\n",
              "<style scoped>\n",
              "    .dataframe tbody tr th:only-of-type {\n",
              "        vertical-align: middle;\n",
              "    }\n",
              "\n",
              "    .dataframe tbody tr th {\n",
              "        vertical-align: top;\n",
              "    }\n",
              "\n",
              "    .dataframe thead th {\n",
              "        text-align: right;\n",
              "    }\n",
              "</style>\n",
              "<table border=\"1\" class=\"dataframe\">\n",
              "  <thead>\n",
              "    <tr style=\"text-align: right;\">\n",
              "      <th></th>\n",
              "      <th>Diabetes</th>\n",
              "      <th>PressAlta</th>\n",
              "      <th>CholAlto</th>\n",
              "      <th>ColCheck</th>\n",
              "      <th>IMC</th>\n",
              "      <th>Fumante</th>\n",
              "      <th>Derrame</th>\n",
              "      <th>CoracaoEnf</th>\n",
              "      <th>AtivFisica</th>\n",
              "      <th>Frutas</th>\n",
              "      <th>...</th>\n",
              "      <th>PlSaude</th>\n",
              "      <th>DespMedica</th>\n",
              "      <th>SdGeral</th>\n",
              "      <th>SdMental</th>\n",
              "      <th>SdFisica</th>\n",
              "      <th>DifCaminhar</th>\n",
              "      <th>Sexo</th>\n",
              "      <th>Idade</th>\n",
              "      <th>Educacao</th>\n",
              "      <th>Renda</th>\n",
              "    </tr>\n",
              "  </thead>\n",
              "  <tbody>\n",
              "    <tr>\n",
              "      <th>0</th>\n",
              "      <td>0.0</td>\n",
              "      <td>1.0</td>\n",
              "      <td>0.0</td>\n",
              "      <td>1.0</td>\n",
              "      <td>26.0</td>\n",
              "      <td>0.0</td>\n",
              "      <td>0.0</td>\n",
              "      <td>0.0</td>\n",
              "      <td>1.0</td>\n",
              "      <td>0.0</td>\n",
              "      <td>...</td>\n",
              "      <td>1.0</td>\n",
              "      <td>0.0</td>\n",
              "      <td>3.0</td>\n",
              "      <td>5.0</td>\n",
              "      <td>30.0</td>\n",
              "      <td>0.0</td>\n",
              "      <td>1.0</td>\n",
              "      <td>4.0</td>\n",
              "      <td>6.0</td>\n",
              "      <td>8.0</td>\n",
              "    </tr>\n",
              "    <tr>\n",
              "      <th>1</th>\n",
              "      <td>0.0</td>\n",
              "      <td>1.0</td>\n",
              "      <td>1.0</td>\n",
              "      <td>1.0</td>\n",
              "      <td>26.0</td>\n",
              "      <td>1.0</td>\n",
              "      <td>1.0</td>\n",
              "      <td>0.0</td>\n",
              "      <td>0.0</td>\n",
              "      <td>1.0</td>\n",
              "      <td>...</td>\n",
              "      <td>1.0</td>\n",
              "      <td>0.0</td>\n",
              "      <td>3.0</td>\n",
              "      <td>0.0</td>\n",
              "      <td>0.0</td>\n",
              "      <td>0.0</td>\n",
              "      <td>1.0</td>\n",
              "      <td>12.0</td>\n",
              "      <td>6.0</td>\n",
              "      <td>8.0</td>\n",
              "    </tr>\n",
              "    <tr>\n",
              "      <th>2</th>\n",
              "      <td>0.0</td>\n",
              "      <td>0.0</td>\n",
              "      <td>0.0</td>\n",
              "      <td>1.0</td>\n",
              "      <td>26.0</td>\n",
              "      <td>0.0</td>\n",
              "      <td>0.0</td>\n",
              "      <td>0.0</td>\n",
              "      <td>1.0</td>\n",
              "      <td>1.0</td>\n",
              "      <td>...</td>\n",
              "      <td>1.0</td>\n",
              "      <td>0.0</td>\n",
              "      <td>1.0</td>\n",
              "      <td>0.0</td>\n",
              "      <td>10.0</td>\n",
              "      <td>0.0</td>\n",
              "      <td>1.0</td>\n",
              "      <td>13.0</td>\n",
              "      <td>6.0</td>\n",
              "      <td>8.0</td>\n",
              "    </tr>\n",
              "    <tr>\n",
              "      <th>3</th>\n",
              "      <td>0.0</td>\n",
              "      <td>1.0</td>\n",
              "      <td>1.0</td>\n",
              "      <td>1.0</td>\n",
              "      <td>28.0</td>\n",
              "      <td>1.0</td>\n",
              "      <td>0.0</td>\n",
              "      <td>0.0</td>\n",
              "      <td>1.0</td>\n",
              "      <td>1.0</td>\n",
              "      <td>...</td>\n",
              "      <td>1.0</td>\n",
              "      <td>0.0</td>\n",
              "      <td>3.0</td>\n",
              "      <td>0.0</td>\n",
              "      <td>3.0</td>\n",
              "      <td>0.0</td>\n",
              "      <td>1.0</td>\n",
              "      <td>11.0</td>\n",
              "      <td>6.0</td>\n",
              "      <td>8.0</td>\n",
              "    </tr>\n",
              "    <tr>\n",
              "      <th>4</th>\n",
              "      <td>0.0</td>\n",
              "      <td>0.0</td>\n",
              "      <td>0.0</td>\n",
              "      <td>1.0</td>\n",
              "      <td>29.0</td>\n",
              "      <td>1.0</td>\n",
              "      <td>0.0</td>\n",
              "      <td>0.0</td>\n",
              "      <td>1.0</td>\n",
              "      <td>1.0</td>\n",
              "      <td>...</td>\n",
              "      <td>1.0</td>\n",
              "      <td>0.0</td>\n",
              "      <td>2.0</td>\n",
              "      <td>0.0</td>\n",
              "      <td>0.0</td>\n",
              "      <td>0.0</td>\n",
              "      <td>0.0</td>\n",
              "      <td>8.0</td>\n",
              "      <td>5.0</td>\n",
              "      <td>8.0</td>\n",
              "    </tr>\n",
              "  </tbody>\n",
              "</table>\n",
              "<p>5 rows × 22 columns</p>\n",
              "</div>"
            ],
            "text/plain": [
              "   Diabetes  PressAlta  CholAlto  ColCheck   IMC  Fumante  Derrame  \\\n",
              "0       0.0        1.0       0.0       1.0  26.0      0.0      0.0   \n",
              "1       0.0        1.0       1.0       1.0  26.0      1.0      1.0   \n",
              "2       0.0        0.0       0.0       1.0  26.0      0.0      0.0   \n",
              "3       0.0        1.0       1.0       1.0  28.0      1.0      0.0   \n",
              "4       0.0        0.0       0.0       1.0  29.0      1.0      0.0   \n",
              "\n",
              "   CoracaoEnf  AtivFisica  Frutas  ...  PlSaude  DespMedica  SdGeral  \\\n",
              "0         0.0         1.0     0.0  ...      1.0         0.0      3.0   \n",
              "1         0.0         0.0     1.0  ...      1.0         0.0      3.0   \n",
              "2         0.0         1.0     1.0  ...      1.0         0.0      1.0   \n",
              "3         0.0         1.0     1.0  ...      1.0         0.0      3.0   \n",
              "4         0.0         1.0     1.0  ...      1.0         0.0      2.0   \n",
              "\n",
              "   SdMental  SdFisica  DifCaminhar  Sexo  Idade  Educacao  Renda  \n",
              "0       5.0      30.0          0.0   1.0    4.0       6.0    8.0  \n",
              "1       0.0       0.0          0.0   1.0   12.0       6.0    8.0  \n",
              "2       0.0      10.0          0.0   1.0   13.0       6.0    8.0  \n",
              "3       0.0       3.0          0.0   1.0   11.0       6.0    8.0  \n",
              "4       0.0       0.0          0.0   0.0    8.0       5.0    8.0  \n",
              "\n",
              "[5 rows x 22 columns]"
            ]
          },
          "execution_count": 11,
          "metadata": {},
          "output_type": "execute_result"
        }
      ],
      "source": [
        "df_diabetes.head()"
      ]
    },
    {
      "cell_type": "code",
      "execution_count": 12,
      "metadata": {
        "colab": {
          "base_uri": "https://localhost:8080/",
          "height": 897
        },
        "id": "y6gmk2OCgjwJ",
        "outputId": "9f3d61e7-ffb0-4fad-edf9-9f02102cccb5"
      },
      "outputs": [
        {
          "data": {
            "image/png": "[encoded data removed]",
            "text/plain": [
              "<Figure size 1800x1080 with 1 Axes>"
            ]
          },
          "metadata": {},
          "output_type": "display_data"
        }
      ],
      "source": [
        "df_diabetes['Renda'].plot(kind='hist', figsize=(25, 15),  color = \"#66c2a5\")\n",
        "# Titulo\n",
        "plt.title('Distribuição da Renda dos participantes da pesquisa')\n",
        "# Eixo x-label\n",
        "plt.xlabel('Renda')\n",
        "# Eixo y-label\n",
        "plt.ylabel('Qtde de Participantes')\n",
        "plt.show()"
      ]
    },
    {
      "cell_type": "code",
      "execution_count": 13,
      "metadata": {
        "colab": {
          "base_uri": "https://localhost:8080/"
        },
        "id": "lYjDqumDK5hn",
        "outputId": "1ae3dc01-35fb-48e3-94c2-10508568c882"
      },
      "outputs": [
        {
          "name": "stdout",
          "output_type": "stream",
          "text": [
            "   Diabetes  Fumante  Count\n",
            "0       0.0      0.0  20065\n",
            "1       0.0      1.0  15281\n",
            "2       1.0      0.0  17029\n",
            "3       1.0      1.0  18317\n"
          ]
        }
      ],
      "source": [
        "diabetes_fum = df_diabetes.groupby(['Diabetes', 'Fumante']).size().reset_index(name = 'Count')\n",
        "print(diabetes_fum)"
      ]
    },
    {
      "cell_type": "code",
      "execution_count": 14,
      "metadata": {
        "colab": {
          "base_uri": "https://localhost:8080/"
        },
        "id": "-I9mDn3ZKrUw",
        "outputId": "b56bb5ab-a09f-4f95-9eb8-95dc123d5694"
      },
      "outputs": [
        {
          "data": {
            "text/plain": [
              "Diabetes\n",
              "0.0    35346\n",
              "1.0    35346\n",
              "Name: Count, dtype: int64"
            ]
          },
          "execution_count": 14,
          "metadata": {},
          "output_type": "execute_result"
        }
      ],
      "source": [
        "Total_fumantes = diabetes_fum.groupby(['Diabetes']).sum().Count\n",
        "Total_fumantes"
      ]
    },
    {
      "cell_type": "code",
      "execution_count": 15,
      "metadata": {
        "colab": {
          "base_uri": "https://localhost:8080/",
          "height": 175
        },
        "id": "HkZA5LGWLXTY",
        "outputId": "1ce76b45-d7ae-4ad1-8c79-552036675aa8"
      },
      "outputs": [
        {
          "data": {
            "text/html": [
              "<div>\n",
              "<style scoped>\n",
              "    .dataframe tbody tr th:only-of-type {\n",
              "        vertical-align: middle;\n",
              "    }\n",
              "\n",
              "    .dataframe tbody tr th {\n",
              "        vertical-align: top;\n",
              "    }\n",
              "\n",
              "    .dataframe thead th {\n",
              "        text-align: right;\n",
              "    }\n",
              "</style>\n",
              "<table border=\"1\" class=\"dataframe\">\n",
              "  <thead>\n",
              "    <tr style=\"text-align: right;\">\n",
              "      <th></th>\n",
              "      <th>Diabetes</th>\n",
              "      <th>Fumante</th>\n",
              "      <th>Count</th>\n",
              "      <th>Count_</th>\n",
              "      <th>Percentage</th>\n",
              "    </tr>\n",
              "  </thead>\n",
              "  <tbody>\n",
              "    <tr>\n",
              "      <th>0</th>\n",
              "      <td>0.0</td>\n",
              "      <td>0.0</td>\n",
              "      <td>20065</td>\n",
              "      <td>35346</td>\n",
              "      <td>0.567674</td>\n",
              "    </tr>\n",
              "    <tr>\n",
              "      <th>1</th>\n",
              "      <td>0.0</td>\n",
              "      <td>1.0</td>\n",
              "      <td>15281</td>\n",
              "      <td>35346</td>\n",
              "      <td>0.432326</td>\n",
              "    </tr>\n",
              "    <tr>\n",
              "      <th>2</th>\n",
              "      <td>1.0</td>\n",
              "      <td>0.0</td>\n",
              "      <td>17029</td>\n",
              "      <td>35346</td>\n",
              "      <td>0.481780</td>\n",
              "    </tr>\n",
              "    <tr>\n",
              "      <th>3</th>\n",
              "      <td>1.0</td>\n",
              "      <td>1.0</td>\n",
              "      <td>18317</td>\n",
              "      <td>35346</td>\n",
              "      <td>0.518220</td>\n",
              "    </tr>\n",
              "  </tbody>\n",
              "</table>\n",
              "</div>"
            ],
            "text/plain": [
              "   Diabetes  Fumante  Count  Count_  Percentage\n",
              "0       0.0      0.0  20065   35346    0.567674\n",
              "1       0.0      1.0  15281   35346    0.432326\n",
              "2       1.0      0.0  17029   35346    0.481780\n",
              "3       1.0      1.0  18317   35346    0.518220"
            ]
          },
          "execution_count": 15,
          "metadata": {},
          "output_type": "execute_result"
        }
      ],
      "source": [
        "Temp = diabetes_fum.set_index('Diabetes').join(Total_fumantes,rsuffix='_')\n",
        "Temp['Percentage'] = Temp['Count']/Temp['Count_']\n",
        "Temp = Temp.reset_index()\n",
        "Temp"
      ]
    },
    {
      "cell_type": "code",
      "execution_count": 16,
      "metadata": {
        "id": "UBQdv0TeLltQ"
      },
      "outputs": [],
      "source": [
        "Temp['Diabetes'] = Temp['Diabetes'].replace({0.0:'Saudável', 1.0:'Diabético'})\n",
        "Temp['Fumante'] = Temp['Fumante'].replace({0.0:'Não-Fumante', 1.0:'Fumante'})"
      ]
    },
    {
      "cell_type": "code",
      "execution_count": 17,
      "metadata": {
        "colab": {
          "base_uri": "https://localhost:8080/",
          "height": 626
        },
        "id": "H2gjDEA9L3ne",
        "outputId": "081fb054-9300-440d-b4b9-002d92bfa9a1"
      },
      "outputs": [
        {
          "data": {
            "image/png": "[encoded data removed]",
            "text/plain": [
              "<Figure size 1800x720 with 1 Axes>"
            ]
          },
          "metadata": {},
          "output_type": "display_data"
        }
      ],
      "source": [
        "plt.figure(figsize = (25,10))\n",
        "sns.barplot(x = 'Diabetes', y = 'Percentage', hue = 'Fumante', data = Temp, palette = 'Set2')\n",
        "plt.title(\"Diabetes x Fumantes\")\n",
        "plt.show()"
      ]
    },
    {
      "cell_type": "markdown",
      "metadata": {
        "id": "JIhrSvfCM7Lf"
      },
      "source": [
        "Observa-se que entre os participantes saudáveis (não-diabéticos), o número de não-fumantes é maior. Entre os participantes identificados como diabéticos, a maioria são fumantes, porém a diferença percentual entre os grupos não é significativa: 0,51% - Diabético/Fumante e 0,48% - Diabético/Não-fumante."
      ]
    },
    {
      "cell_type": "code",
      "execution_count": 18,
      "metadata": {
        "colab": {
          "base_uri": "https://localhost:8080/"
        },
        "id": "bWqwrWC7Og4d",
        "outputId": "d4df6856-cec2-480a-e6c1-560a94e62567"
      },
      "outputs": [
        {
          "name": "stdout",
          "output_type": "stream",
          "text": [
            "    Diabetes  Idade  Sexo  Count\n",
            "0        0.0    1.0   0.0    430\n",
            "1        0.0    1.0   1.0    471\n",
            "2        0.0    2.0   0.0    643\n",
            "3        0.0    2.0   1.0    613\n",
            "4        0.0    3.0   0.0    932\n",
            "5        0.0    3.0   1.0    803\n",
            "6        0.0    4.0   0.0   1207\n",
            "7        0.0    4.0   1.0    960\n",
            "8        0.0    5.0   0.0   1400\n",
            "9        0.0    5.0   1.0   1069\n",
            "10       0.0    6.0   0.0   1631\n",
            "11       0.0    6.0   1.0   1275\n",
            "12       0.0    7.0   0.0   2179\n",
            "13       0.0    7.0   1.0   1605\n",
            "14       0.0    8.0   0.0   2481\n",
            "15       0.0    8.0   1.0   1859\n",
            "16       0.0    9.0   0.0   2417\n",
            "17       0.0    9.0   1.0   1962\n",
            "18       0.0   10.0   0.0   2408\n",
            "19       0.0   10.0   1.0   1890\n",
            "20       0.0   11.0   0.0   1668\n",
            "21       0.0   11.0   1.0   1235\n",
            "22       0.0   12.0   0.0   1204\n",
            "23       0.0   12.0   1.0    787\n",
            "24       0.0   13.0   0.0   1375\n",
            "25       0.0   13.0   1.0    842\n",
            "26       1.0    1.0   0.0     45\n",
            "27       1.0    1.0   1.0     33\n",
            "28       1.0    2.0   0.0     89\n",
            "29       1.0    2.0   1.0     51\n",
            "30       1.0    3.0   0.0    191\n",
            "31       1.0    3.0   1.0    123\n",
            "32       1.0    4.0   0.0    366\n",
            "33       1.0    4.0   1.0    260\n",
            "34       1.0    5.0   0.0    576\n",
            "35       1.0    5.0   1.0    475\n",
            "36       1.0    6.0   0.0    902\n",
            "37       1.0    6.0   1.0    840\n",
            "38       1.0    7.0   0.0   1642\n",
            "39       1.0    7.0   1.0   1446\n",
            "40       1.0    8.0   0.0   2255\n",
            "41       1.0    8.0   1.0   2008\n",
            "42       1.0    9.0   0.0   2968\n",
            "43       1.0    9.0   1.0   2765\n",
            "44       1.0   10.0   0.0   3250\n",
            "45       1.0   10.0   1.0   3308\n",
            "46       1.0   11.0   0.0   2553\n",
            "47       1.0   11.0   1.0   2588\n",
            "48       1.0   12.0   0.0   1834\n",
            "49       1.0   12.0   1.0   1569\n",
            "50       1.0   13.0   0.0   1740\n",
            "51       1.0   13.0   1.0   1469\n"
          ]
        }
      ],
      "source": [
        "diabetes_idade = df_diabetes.groupby(['Diabetes', 'Idade', 'Sexo']).size().reset_index(name = 'Count')\n",
        "print(diabetes_idade)"
      ]
    },
    {
      "cell_type": "code",
      "execution_count": 19,
      "metadata": {
        "colab": {
          "base_uri": "https://localhost:8080/"
        },
        "id": "tIUroh4gPTYE",
        "outputId": "912bf7da-d518-4095-f287-9a95b1e02bd2"
      },
      "outputs": [
        {
          "data": {
            "text/plain": [
              "Diabetes\n",
              "0.0    35346\n",
              "1.0    35346\n",
              "Name: Count, dtype: int64"
            ]
          },
          "execution_count": 19,
          "metadata": {},
          "output_type": "execute_result"
        }
      ],
      "source": [
        "Total_idade = diabetes_idade.groupby(['Diabetes']).sum().Count\n",
        "Total_idade"
      ]
    },
    {
      "cell_type": "code",
      "execution_count": 20,
      "metadata": {
        "colab": {
          "base_uri": "https://localhost:8080/",
          "height": 1000
        },
        "id": "zqan3Ej-ObON",
        "outputId": "46cf0e66-7e6d-4b9e-c47d-dfb5cca693d0"
      },
      "outputs": [
        {
          "data": {
            "text/html": [
              "<div>\n",
              "<style scoped>\n",
              "    .dataframe tbody tr th:only-of-type {\n",
              "        vertical-align: middle;\n",
              "    }\n",
              "\n",
              "    .dataframe tbody tr th {\n",
              "        vertical-align: top;\n",
              "    }\n",
              "\n",
              "    .dataframe thead th {\n",
              "        text-align: right;\n",
              "    }\n",
              "</style>\n",
              "<table border=\"1\" class=\"dataframe\">\n",
              "  <thead>\n",
              "    <tr style=\"text-align: right;\">\n",
              "      <th></th>\n",
              "      <th>Diabetes</th>\n",
              "      <th>Idade</th>\n",
              "      <th>Sexo</th>\n",
              "      <th>Count</th>\n",
              "      <th>Count_</th>\n",
              "      <th>Percentage</th>\n",
              "    </tr>\n",
              "  </thead>\n",
              "  <tbody>\n",
              "    <tr>\n",
              "      <th>0</th>\n",
              "      <td>0.0</td>\n",
              "      <td>1.0</td>\n",
              "      <td>0.0</td>\n",
              "      <td>430</td>\n",
              "      <td>35346</td>\n",
              "      <td>0.012165</td>\n",
              "    </tr>\n",
              "    <tr>\n",
              "      <th>1</th>\n",
              "      <td>0.0</td>\n",
              "      <td>1.0</td>\n",
              "      <td>1.0</td>\n",
              "      <td>471</td>\n",
              "      <td>35346</td>\n",
              "      <td>0.013325</td>\n",
              "    </tr>\n",
              "    <tr>\n",
              "      <th>2</th>\n",
              "      <td>0.0</td>\n",
              "      <td>2.0</td>\n",
              "      <td>0.0</td>\n",
              "      <td>643</td>\n",
              "      <td>35346</td>\n",
              "      <td>0.018192</td>\n",
              "    </tr>\n",
              "    <tr>\n",
              "      <th>3</th>\n",
              "      <td>0.0</td>\n",
              "      <td>2.0</td>\n",
              "      <td>1.0</td>\n",
              "      <td>613</td>\n",
              "      <td>35346</td>\n",
              "      <td>0.017343</td>\n",
              "    </tr>\n",
              "    <tr>\n",
              "      <th>4</th>\n",
              "      <td>0.0</td>\n",
              "      <td>3.0</td>\n",
              "      <td>0.0</td>\n",
              "      <td>932</td>\n",
              "      <td>35346</td>\n",
              "      <td>0.026368</td>\n",
              "    </tr>\n",
              "    <tr>\n",
              "      <th>5</th>\n",
              "      <td>0.0</td>\n",
              "      <td>3.0</td>\n",
              "      <td>1.0</td>\n",
              "      <td>803</td>\n",
              "      <td>35346</td>\n",
              "      <td>0.022718</td>\n",
              "    </tr>\n",
              "    <tr>\n",
              "      <th>6</th>\n",
              "      <td>0.0</td>\n",
              "      <td>4.0</td>\n",
              "      <td>0.0</td>\n",
              "      <td>1207</td>\n",
              "      <td>35346</td>\n",
              "      <td>0.034148</td>\n",
              "    </tr>\n",
              "    <tr>\n",
              "      <th>7</th>\n",
              "      <td>0.0</td>\n",
              "      <td>4.0</td>\n",
              "      <td>1.0</td>\n",
              "      <td>960</td>\n",
              "      <td>35346</td>\n",
              "      <td>0.027160</td>\n",
              "    </tr>\n",
              "    <tr>\n",
              "      <th>8</th>\n",
              "      <td>0.0</td>\n",
              "      <td>5.0</td>\n",
              "      <td>0.0</td>\n",
              "      <td>1400</td>\n",
              "      <td>35346</td>\n",
              "      <td>0.039608</td>\n",
              "    </tr>\n",
              "    <tr>\n",
              "      <th>9</th>\n",
              "      <td>0.0</td>\n",
              "      <td>5.0</td>\n",
              "      <td>1.0</td>\n",
              "      <td>1069</td>\n",
              "      <td>35346</td>\n",
              "      <td>0.030244</td>\n",
              "    </tr>\n",
              "    <tr>\n",
              "      <th>10</th>\n",
              "      <td>0.0</td>\n",
              "      <td>6.0</td>\n",
              "      <td>0.0</td>\n",
              "      <td>1631</td>\n",
              "      <td>35346</td>\n",
              "      <td>0.046144</td>\n",
              "    </tr>\n",
              "    <tr>\n",
              "      <th>11</th>\n",
              "      <td>0.0</td>\n",
              "      <td>6.0</td>\n",
              "      <td>1.0</td>\n",
              "      <td>1275</td>\n",
              "      <td>35346</td>\n",
              "      <td>0.036072</td>\n",
              "    </tr>\n",
              "    <tr>\n",
              "      <th>12</th>\n",
              "      <td>0.0</td>\n",
              "      <td>7.0</td>\n",
              "      <td>0.0</td>\n",
              "      <td>2179</td>\n",
              "      <td>35346</td>\n",
              "      <td>0.061648</td>\n",
              "    </tr>\n",
              "    <tr>\n",
              "      <th>13</th>\n",
              "      <td>0.0</td>\n",
              "      <td>7.0</td>\n",
              "      <td>1.0</td>\n",
              "      <td>1605</td>\n",
              "      <td>35346</td>\n",
              "      <td>0.045408</td>\n",
              "    </tr>\n",
              "    <tr>\n",
              "      <th>14</th>\n",
              "      <td>0.0</td>\n",
              "      <td>8.0</td>\n",
              "      <td>0.0</td>\n",
              "      <td>2481</td>\n",
              "      <td>35346</td>\n",
              "      <td>0.070192</td>\n",
              "    </tr>\n",
              "    <tr>\n",
              "      <th>15</th>\n",
              "      <td>0.0</td>\n",
              "      <td>8.0</td>\n",
              "      <td>1.0</td>\n",
              "      <td>1859</td>\n",
              "      <td>35346</td>\n",
              "      <td>0.052594</td>\n",
              "    </tr>\n",
              "    <tr>\n",
              "      <th>16</th>\n",
              "      <td>0.0</td>\n",
              "      <td>9.0</td>\n",
              "      <td>0.0</td>\n",
              "      <td>2417</td>\n",
              "      <td>35346</td>\n",
              "      <td>0.068381</td>\n",
              "    </tr>\n",
              "    <tr>\n",
              "      <th>17</th>\n",
              "      <td>0.0</td>\n",
              "      <td>9.0</td>\n",
              "      <td>1.0</td>\n",
              "      <td>1962</td>\n",
              "      <td>35346</td>\n",
              "      <td>0.055508</td>\n",
              "    </tr>\n",
              "    <tr>\n",
              "      <th>18</th>\n",
              "      <td>0.0</td>\n",
              "      <td>10.0</td>\n",
              "      <td>0.0</td>\n",
              "      <td>2408</td>\n",
              "      <td>35346</td>\n",
              "      <td>0.068127</td>\n",
              "    </tr>\n",
              "    <tr>\n",
              "      <th>19</th>\n",
              "      <td>0.0</td>\n",
              "      <td>10.0</td>\n",
              "      <td>1.0</td>\n",
              "      <td>1890</td>\n",
              "      <td>35346</td>\n",
              "      <td>0.053471</td>\n",
              "    </tr>\n",
              "    <tr>\n",
              "      <th>20</th>\n",
              "      <td>0.0</td>\n",
              "      <td>11.0</td>\n",
              "      <td>0.0</td>\n",
              "      <td>1668</td>\n",
              "      <td>35346</td>\n",
              "      <td>0.047191</td>\n",
              "    </tr>\n",
              "    <tr>\n",
              "      <th>21</th>\n",
              "      <td>0.0</td>\n",
              "      <td>11.0</td>\n",
              "      <td>1.0</td>\n",
              "      <td>1235</td>\n",
              "      <td>35346</td>\n",
              "      <td>0.034940</td>\n",
              "    </tr>\n",
              "    <tr>\n",
              "      <th>22</th>\n",
              "      <td>0.0</td>\n",
              "      <td>12.0</td>\n",
              "      <td>0.0</td>\n",
              "      <td>1204</td>\n",
              "      <td>35346</td>\n",
              "      <td>0.034063</td>\n",
              "    </tr>\n",
              "    <tr>\n",
              "      <th>23</th>\n",
              "      <td>0.0</td>\n",
              "      <td>12.0</td>\n",
              "      <td>1.0</td>\n",
              "      <td>787</td>\n",
              "      <td>35346</td>\n",
              "      <td>0.022266</td>\n",
              "    </tr>\n",
              "    <tr>\n",
              "      <th>24</th>\n",
              "      <td>0.0</td>\n",
              "      <td>13.0</td>\n",
              "      <td>0.0</td>\n",
              "      <td>1375</td>\n",
              "      <td>35346</td>\n",
              "      <td>0.038901</td>\n",
              "    </tr>\n",
              "    <tr>\n",
              "      <th>25</th>\n",
              "      <td>0.0</td>\n",
              "      <td>13.0</td>\n",
              "      <td>1.0</td>\n",
              "      <td>842</td>\n",
              "      <td>35346</td>\n",
              "      <td>0.023822</td>\n",
              "    </tr>\n",
              "    <tr>\n",
              "      <th>26</th>\n",
              "      <td>1.0</td>\n",
              "      <td>1.0</td>\n",
              "      <td>0.0</td>\n",
              "      <td>45</td>\n",
              "      <td>35346</td>\n",
              "      <td>0.001273</td>\n",
              "    </tr>\n",
              "    <tr>\n",
              "      <th>27</th>\n",
              "      <td>1.0</td>\n",
              "      <td>1.0</td>\n",
              "      <td>1.0</td>\n",
              "      <td>33</td>\n",
              "      <td>35346</td>\n",
              "      <td>0.000934</td>\n",
              "    </tr>\n",
              "    <tr>\n",
              "      <th>28</th>\n",
              "      <td>1.0</td>\n",
              "      <td>2.0</td>\n",
              "      <td>0.0</td>\n",
              "      <td>89</td>\n",
              "      <td>35346</td>\n",
              "      <td>0.002518</td>\n",
              "    </tr>\n",
              "    <tr>\n",
              "      <th>29</th>\n",
              "      <td>1.0</td>\n",
              "      <td>2.0</td>\n",
              "      <td>1.0</td>\n",
              "      <td>51</td>\n",
              "      <td>35346</td>\n",
              "      <td>0.001443</td>\n",
              "    </tr>\n",
              "    <tr>\n",
              "      <th>30</th>\n",
              "      <td>1.0</td>\n",
              "      <td>3.0</td>\n",
              "      <td>0.0</td>\n",
              "      <td>191</td>\n",
              "      <td>35346</td>\n",
              "      <td>0.005404</td>\n",
              "    </tr>\n",
              "    <tr>\n",
              "      <th>31</th>\n",
              "      <td>1.0</td>\n",
              "      <td>3.0</td>\n",
              "      <td>1.0</td>\n",
              "      <td>123</td>\n",
              "      <td>35346</td>\n",
              "      <td>0.003480</td>\n",
              "    </tr>\n",
              "    <tr>\n",
              "      <th>32</th>\n",
              "      <td>1.0</td>\n",
              "      <td>4.0</td>\n",
              "      <td>0.0</td>\n",
              "      <td>366</td>\n",
              "      <td>35346</td>\n",
              "      <td>0.010355</td>\n",
              "    </tr>\n",
              "    <tr>\n",
              "      <th>33</th>\n",
              "      <td>1.0</td>\n",
              "      <td>4.0</td>\n",
              "      <td>1.0</td>\n",
              "      <td>260</td>\n",
              "      <td>35346</td>\n",
              "      <td>0.007356</td>\n",
              "    </tr>\n",
              "    <tr>\n",
              "      <th>34</th>\n",
              "      <td>1.0</td>\n",
              "      <td>5.0</td>\n",
              "      <td>0.0</td>\n",
              "      <td>576</td>\n",
              "      <td>35346</td>\n",
              "      <td>0.016296</td>\n",
              "    </tr>\n",
              "    <tr>\n",
              "      <th>35</th>\n",
              "      <td>1.0</td>\n",
              "      <td>5.0</td>\n",
              "      <td>1.0</td>\n",
              "      <td>475</td>\n",
              "      <td>35346</td>\n",
              "      <td>0.013439</td>\n",
              "    </tr>\n",
              "    <tr>\n",
              "      <th>36</th>\n",
              "      <td>1.0</td>\n",
              "      <td>6.0</td>\n",
              "      <td>0.0</td>\n",
              "      <td>902</td>\n",
              "      <td>35346</td>\n",
              "      <td>0.025519</td>\n",
              "    </tr>\n",
              "    <tr>\n",
              "      <th>37</th>\n",
              "      <td>1.0</td>\n",
              "      <td>6.0</td>\n",
              "      <td>1.0</td>\n",
              "      <td>840</td>\n",
              "      <td>35346</td>\n",
              "      <td>0.023765</td>\n",
              "    </tr>\n",
              "    <tr>\n",
              "      <th>38</th>\n",
              "      <td>1.0</td>\n",
              "      <td>7.0</td>\n",
              "      <td>0.0</td>\n",
              "      <td>1642</td>\n",
              "      <td>35346</td>\n",
              "      <td>0.046455</td>\n",
              "    </tr>\n",
              "    <tr>\n",
              "      <th>39</th>\n",
              "      <td>1.0</td>\n",
              "      <td>7.0</td>\n",
              "      <td>1.0</td>\n",
              "      <td>1446</td>\n",
              "      <td>35346</td>\n",
              "      <td>0.040910</td>\n",
              "    </tr>\n",
              "    <tr>\n",
              "      <th>40</th>\n",
              "      <td>1.0</td>\n",
              "      <td>8.0</td>\n",
              "      <td>0.0</td>\n",
              "      <td>2255</td>\n",
              "      <td>35346</td>\n",
              "      <td>0.063798</td>\n",
              "    </tr>\n",
              "    <tr>\n",
              "      <th>41</th>\n",
              "      <td>1.0</td>\n",
              "      <td>8.0</td>\n",
              "      <td>1.0</td>\n",
              "      <td>2008</td>\n",
              "      <td>35346</td>\n",
              "      <td>0.056810</td>\n",
              "    </tr>\n",
              "    <tr>\n",
              "      <th>42</th>\n",
              "      <td>1.0</td>\n",
              "      <td>9.0</td>\n",
              "      <td>0.0</td>\n",
              "      <td>2968</td>\n",
              "      <td>35346</td>\n",
              "      <td>0.083970</td>\n",
              "    </tr>\n",
              "    <tr>\n",
              "      <th>43</th>\n",
              "      <td>1.0</td>\n",
              "      <td>9.0</td>\n",
              "      <td>1.0</td>\n",
              "      <td>2765</td>\n",
              "      <td>35346</td>\n",
              "      <td>0.078227</td>\n",
              "    </tr>\n",
              "    <tr>\n",
              "      <th>44</th>\n",
              "      <td>1.0</td>\n",
              "      <td>10.0</td>\n",
              "      <td>0.0</td>\n",
              "      <td>3250</td>\n",
              "      <td>35346</td>\n",
              "      <td>0.091948</td>\n",
              "    </tr>\n",
              "    <tr>\n",
              "      <th>45</th>\n",
              "      <td>1.0</td>\n",
              "      <td>10.0</td>\n",
              "      <td>1.0</td>\n",
              "      <td>3308</td>\n",
              "      <td>35346</td>\n",
              "      <td>0.093589</td>\n",
              "    </tr>\n",
              "    <tr>\n",
              "      <th>46</th>\n",
              "      <td>1.0</td>\n",
              "      <td>11.0</td>\n",
              "      <td>0.0</td>\n",
              "      <td>2553</td>\n",
              "      <td>35346</td>\n",
              "      <td>0.072229</td>\n",
              "    </tr>\n",
              "    <tr>\n",
              "      <th>47</th>\n",
              "      <td>1.0</td>\n",
              "      <td>11.0</td>\n",
              "      <td>1.0</td>\n",
              "      <td>2588</td>\n",
              "      <td>35346</td>\n",
              "      <td>0.073219</td>\n",
              "    </tr>\n",
              "    <tr>\n",
              "      <th>48</th>\n",
              "      <td>1.0</td>\n",
              "      <td>12.0</td>\n",
              "      <td>0.0</td>\n",
              "      <td>1834</td>\n",
              "      <td>35346</td>\n",
              "      <td>0.051887</td>\n",
              "    </tr>\n",
              "    <tr>\n",
              "      <th>49</th>\n",
              "      <td>1.0</td>\n",
              "      <td>12.0</td>\n",
              "      <td>1.0</td>\n",
              "      <td>1569</td>\n",
              "      <td>35346</td>\n",
              "      <td>0.044390</td>\n",
              "    </tr>\n",
              "    <tr>\n",
              "      <th>50</th>\n",
              "      <td>1.0</td>\n",
              "      <td>13.0</td>\n",
              "      <td>0.0</td>\n",
              "      <td>1740</td>\n",
              "      <td>35346</td>\n",
              "      <td>0.049228</td>\n",
              "    </tr>\n",
              "    <tr>\n",
              "      <th>51</th>\n",
              "      <td>1.0</td>\n",
              "      <td>13.0</td>\n",
              "      <td>1.0</td>\n",
              "      <td>1469</td>\n",
              "      <td>35346</td>\n",
              "      <td>0.041561</td>\n",
              "    </tr>\n",
              "  </tbody>\n",
              "</table>\n",
              "</div>"
            ],
            "text/plain": [
              "    Diabetes  Idade  Sexo  Count  Count_  Percentage\n",
              "0        0.0    1.0   0.0    430   35346    0.012165\n",
              "1        0.0    1.0   1.0    471   35346    0.013325\n",
              "2        0.0    2.0   0.0    643   35346    0.018192\n",
              "3        0.0    2.0   1.0    613   35346    0.017343\n",
              "4        0.0    3.0   0.0    932   35346    0.026368\n",
              "5        0.0    3.0   1.0    803   35346    0.022718\n",
              "6        0.0    4.0   0.0   1207   35346    0.034148\n",
              "7        0.0    4.0   1.0    960   35346    0.027160\n",
              "8        0.0    5.0   0.0   1400   35346    0.039608\n",
              "9        0.0    5.0   1.0   1069   35346    0.030244\n",
              "10       0.0    6.0   0.0   1631   35346    0.046144\n",
              "11       0.0    6.0   1.0   1275   35346    0.036072\n",
              "12       0.0    7.0   0.0   2179   35346    0.061648\n",
              "13       0.0    7.0   1.0   1605   35346    0.045408\n",
              "14       0.0    8.0   0.0   2481   35346    0.070192\n",
              "15       0.0    8.0   1.0   1859   35346    0.052594\n",
              "16       0.0    9.0   0.0   2417   35346    0.068381\n",
              "17       0.0    9.0   1.0   1962   35346    0.055508\n",
              "18       0.0   10.0   0.0   2408   35346    0.068127\n",
              "19       0.0   10.0   1.0   1890   35346    0.053471\n",
              "20       0.0   11.0   0.0   1668   35346    0.047191\n",
              "21       0.0   11.0   1.0   1235   35346    0.034940\n",
              "22       0.0   12.0   0.0   1204   35346    0.034063\n",
              "23       0.0   12.0   1.0    787   35346    0.022266\n",
              "24       0.0   13.0   0.0   1375   35346    0.038901\n",
              "25       0.0   13.0   1.0    842   35346    0.023822\n",
              "26       1.0    1.0   0.0     45   35346    0.001273\n",
              "27       1.0    1.0   1.0     33   35346    0.000934\n",
              "28       1.0    2.0   0.0     89   35346    0.002518\n",
              "29       1.0    2.0   1.0     51   35346    0.001443\n",
              "30       1.0    3.0   0.0    191   35346    0.005404\n",
              "31       1.0    3.0   1.0    123   35346    0.003480\n",
              "32       1.0    4.0   0.0    366   35346    0.010355\n",
              "33       1.0    4.0   1.0    260   35346    0.007356\n",
              "34       1.0    5.0   0.0    576   35346    0.016296\n",
              "35       1.0    5.0   1.0    475   35346    0.013439\n",
              "36       1.0    6.0   0.0    902   35346    0.025519\n",
              "37       1.0    6.0   1.0    840   35346    0.023765\n",
              "38       1.0    7.0   0.0   1642   35346    0.046455\n",
              "39       1.0    7.0   1.0   1446   35346    0.040910\n",
              "40       1.0    8.0   0.0   2255   35346    0.063798\n",
              "41       1.0    8.0   1.0   2008   35346    0.056810\n",
              "42       1.0    9.0   0.0   2968   35346    0.083970\n",
              "43       1.0    9.0   1.0   2765   35346    0.078227\n",
              "44       1.0   10.0   0.0   3250   35346    0.091948\n",
              "45       1.0   10.0   1.0   3308   35346    0.093589\n",
              "46       1.0   11.0   0.0   2553   35346    0.072229\n",
              "47       1.0   11.0   1.0   2588   35346    0.073219\n",
              "48       1.0   12.0   0.0   1834   35346    0.051887\n",
              "49       1.0   12.0   1.0   1569   35346    0.044390\n",
              "50       1.0   13.0   0.0   1740   35346    0.049228\n",
              "51       1.0   13.0   1.0   1469   35346    0.041561"
            ]
          },
          "execution_count": 20,
          "metadata": {},
          "output_type": "execute_result"
        }
      ],
      "source": [
        "Temp2 = diabetes_idade.set_index('Diabetes').join(Total_idade,rsuffix='_')\n",
        "Temp2['Percentage'] = Temp2['Count']/Temp2['Count_']\n",
        "Temp2 = Temp2.reset_index()\n",
        "Temp2"
      ]
    },
    {
      "cell_type": "code",
      "execution_count": 21,
      "metadata": {
        "id": "FvyrGGjfOJG1"
      },
      "outputs": [],
      "source": [
        "Temp2['Diabetes'] = Temp2['Diabetes'].replace({0.0:'Saudável', 1.0:'Diabético'})\n",
        "Temp2['Idade'] = Temp2['Idade'].replace({1:'8 a 24', 2:'25 a 29', 3:'30 a 34', 4:'35 a 39', 5:'40 a 44', 6:'45 a 49', 7:'50 a 54', 8:'55 a 59', 9:'60 a 64', 10:'65 a 69',11:'70 a 74', 12:'75 a 79', 13: '80 ou mais' })\n",
        "Temp2['Sexo'] = Temp2['Sexo'].replace({0.0:'Masculino', 1.0:'Feminino'})"
      ]
    },
    {
      "cell_type": "code",
      "execution_count": 22,
      "metadata": {
        "colab": {
          "base_uri": "https://localhost:8080/",
          "height": 803
        },
        "id": "mlhzYz4pNz81",
        "outputId": "654703ae-ad31-4972-a675-9a7356ca6662"
      },
      "outputs": [
        {
          "data": {
            "image/png": "[encoded data removed]",
            "text/plain": [
              "<Figure size 1800x1080 with 1 Axes>"
            ]
          },
          "metadata": {},
          "output_type": "display_data"
        }
      ],
      "source": [
        "plt.figure(figsize = (25,15))\n",
        "sns.barplot(x = 'Diabetes', y = 'Percentage', hue = 'Idade', data = Temp2, palette = 'Set2')\n",
        "plt.title(\"Diabetes x Idade\")\n",
        "plt.show()"
      ]
    },
    {
      "cell_type": "code",
      "execution_count": 23,
      "metadata": {
        "colab": {
          "base_uri": "https://localhost:8080/"
        },
        "id": "EpPBD3GD19Lg",
        "outputId": "779d29d2-d92f-4598-84b3-8ab53bc38b70"
      },
      "outputs": [
        {
          "name": "stdout",
          "output_type": "stream",
          "text": [
            "   Diabetes  PressAlta  Count\n",
            "0       0.0        0.0  22118\n",
            "1       0.0        1.0  13228\n",
            "2       1.0        0.0   8742\n",
            "3       1.0        1.0  26604\n"
          ]
        }
      ],
      "source": [
        "diabetes_pa = df_diabetes.groupby(['Diabetes', 'PressAlta']).size().reset_index(name = 'Count')\n",
        "print(diabetes_pa)"
      ]
    },
    {
      "cell_type": "code",
      "execution_count": 24,
      "metadata": {
        "colab": {
          "base_uri": "https://localhost:8080/"
        },
        "id": "NIx4dPTN19OO",
        "outputId": "ae6e88c7-6350-4c77-c7f2-5e6877bd47bf"
      },
      "outputs": [
        {
          "data": {
            "text/plain": [
              "Diabetes\n",
              "0.0    35346\n",
              "1.0    35346\n",
              "Name: Count, dtype: int64"
            ]
          },
          "execution_count": 24,
          "metadata": {},
          "output_type": "execute_result"
        }
      ],
      "source": [
        "Total_pa = diabetes_pa.groupby(['Diabetes']).sum().Count\n",
        "Total_pa"
      ]
    },
    {
      "cell_type": "code",
      "execution_count": 25,
      "metadata": {
        "colab": {
          "base_uri": "https://localhost:8080/",
          "height": 175
        },
        "id": "8N-0bH2T19RG",
        "outputId": "41a08ebb-6a23-4eae-bcac-43ed40c25b2a"
      },
      "outputs": [
        {
          "data": {
            "text/html": [
              "<div>\n",
              "<style scoped>\n",
              "    .dataframe tbody tr th:only-of-type {\n",
              "        vertical-align: middle;\n",
              "    }\n",
              "\n",
              "    .dataframe tbody tr th {\n",
              "        vertical-align: top;\n",
              "    }\n",
              "\n",
              "    .dataframe thead th {\n",
              "        text-align: right;\n",
              "    }\n",
              "</style>\n",
              "<table border=\"1\" class=\"dataframe\">\n",
              "  <thead>\n",
              "    <tr style=\"text-align: right;\">\n",
              "      <th></th>\n",
              "      <th>Diabetes</th>\n",
              "      <th>PressAlta</th>\n",
              "      <th>Count</th>\n",
              "      <th>Count_</th>\n",
              "      <th>Percentage</th>\n",
              "    </tr>\n",
              "  </thead>\n",
              "  <tbody>\n",
              "    <tr>\n",
              "      <th>0</th>\n",
              "      <td>0.0</td>\n",
              "      <td>0.0</td>\n",
              "      <td>22118</td>\n",
              "      <td>35346</td>\n",
              "      <td>0.625757</td>\n",
              "    </tr>\n",
              "    <tr>\n",
              "      <th>1</th>\n",
              "      <td>0.0</td>\n",
              "      <td>1.0</td>\n",
              "      <td>13228</td>\n",
              "      <td>35346</td>\n",
              "      <td>0.374243</td>\n",
              "    </tr>\n",
              "    <tr>\n",
              "      <th>2</th>\n",
              "      <td>1.0</td>\n",
              "      <td>0.0</td>\n",
              "      <td>8742</td>\n",
              "      <td>35346</td>\n",
              "      <td>0.247326</td>\n",
              "    </tr>\n",
              "    <tr>\n",
              "      <th>3</th>\n",
              "      <td>1.0</td>\n",
              "      <td>1.0</td>\n",
              "      <td>26604</td>\n",
              "      <td>35346</td>\n",
              "      <td>0.752674</td>\n",
              "    </tr>\n",
              "  </tbody>\n",
              "</table>\n",
              "</div>"
            ],
            "text/plain": [
              "   Diabetes  PressAlta  Count  Count_  Percentage\n",
              "0       0.0        0.0  22118   35346    0.625757\n",
              "1       0.0        1.0  13228   35346    0.374243\n",
              "2       1.0        0.0   8742   35346    0.247326\n",
              "3       1.0        1.0  26604   35346    0.752674"
            ]
          },
          "execution_count": 25,
          "metadata": {},
          "output_type": "execute_result"
        }
      ],
      "source": [
        "Temp3 = diabetes_pa.set_index('Diabetes').join(Total_pa,rsuffix='_')\n",
        "Temp3['Percentage'] = Temp3['Count']/Temp3['Count_']\n",
        "Temp3 = Temp3.reset_index()\n",
        "Temp3"
      ]
    },
    {
      "cell_type": "code",
      "execution_count": 26,
      "metadata": {
        "id": "784SRp-n19UI"
      },
      "outputs": [],
      "source": [
        "Temp3['Diabetes'] = Temp3['Diabetes'].replace({0.0:'Saudável', 1.0:'Diabético'})\n",
        "Temp3['PressAlta'] = Temp3['PressAlta'].replace({0.0:'Pressão Alta - Não',1.0:'Pressão Alta - Sim' })"
      ]
    },
    {
      "cell_type": "code",
      "execution_count": 27,
      "metadata": {
        "colab": {
          "base_uri": "https://localhost:8080/",
          "height": 897
        },
        "id": "XBQ435HP19Wo",
        "outputId": "ea825a87-6ff4-40e5-8932-7a6852dd4f68"
      },
      "outputs": [
        {
          "data": {
            "image/png": "[encoded data removed]",
            "text/plain": [
              "<Figure size 1800x1080 with 1 Axes>"
            ]
          },
          "metadata": {},
          "output_type": "display_data"
        }
      ],
      "source": [
        "plt.figure(figsize = (25,15))\n",
        "sns.barplot(x = 'Diabetes', y = 'Percentage', hue = 'PressAlta', data = Temp3, palette = 'Set2')\n",
        "plt.title(\"Diabetes x PressãoAlta\")\n",
        "plt.show()"
      ]
    },
    {
      "cell_type": "markdown",
      "metadata": {
        "id": "NfIv32NJ50R7"
      },
      "source": [
        "Dentre os respondentes 'saudáveis', a maioria - 62% - não possui quadro de pressão alta. Para aqueles identificados como pré-diabéticos ou diabéticos, 75%, possuem pressão alta. Verifica-se que a pressão alta pode ser um indicador forte no quadro de diabetes."
      ]
    },
    {
      "cell_type": "code",
      "execution_count": 28,
      "metadata": {
        "colab": {
          "base_uri": "https://localhost:8080/"
        },
        "id": "EdF_IM4v19Ze",
        "outputId": "b5d79270-630e-48a2-dc36-f51bdcab5d32"
      },
      "outputs": [
        {
          "name": "stdout",
          "output_type": "stream",
          "text": [
            "   Diabetes  CholAlto  Count\n",
            "0       0.0       0.0  21869\n",
            "1       0.0       1.0  13477\n",
            "2       1.0       0.0  11660\n",
            "3       1.0       1.0  23686\n"
          ]
        }
      ],
      "source": [
        "diabetes_ca = df_diabetes.groupby(['Diabetes', 'CholAlto']).size().reset_index(name = 'Count')\n",
        "print(diabetes_ca)"
      ]
    },
    {
      "cell_type": "code",
      "execution_count": 29,
      "metadata": {
        "colab": {
          "base_uri": "https://localhost:8080/"
        },
        "id": "Y7PrIikA19cZ",
        "outputId": "29584197-6b46-4822-abcf-bd11e8820dea"
      },
      "outputs": [
        {
          "data": {
            "text/plain": [
              "Diabetes\n",
              "0.0    35346\n",
              "1.0    35346\n",
              "Name: Count, dtype: int64"
            ]
          },
          "execution_count": 29,
          "metadata": {},
          "output_type": "execute_result"
        }
      ],
      "source": [
        "Total_ca = diabetes_ca.groupby(['Diabetes']).sum().Count\n",
        "Total_ca"
      ]
    },
    {
      "cell_type": "code",
      "execution_count": 30,
      "metadata": {
        "colab": {
          "base_uri": "https://localhost:8080/",
          "height": 175
        },
        "id": "6DLPB8O219fH",
        "outputId": "ee7fc564-8ba2-4d6e-bbb5-88c6b5056342"
      },
      "outputs": [
        {
          "data": {
            "text/html": [
              "<div>\n",
              "<style scoped>\n",
              "    .dataframe tbody tr th:only-of-type {\n",
              "        vertical-align: middle;\n",
              "    }\n",
              "\n",
              "    .dataframe tbody tr th {\n",
              "        vertical-align: top;\n",
              "    }\n",
              "\n",
              "    .dataframe thead th {\n",
              "        text-align: right;\n",
              "    }\n",
              "</style>\n",
              "<table border=\"1\" class=\"dataframe\">\n",
              "  <thead>\n",
              "    <tr style=\"text-align: right;\">\n",
              "      <th></th>\n",
              "      <th>Diabetes</th>\n",
              "      <th>CholAlto</th>\n",
              "      <th>Count</th>\n",
              "      <th>Count_</th>\n",
              "      <th>Percentage</th>\n",
              "    </tr>\n",
              "  </thead>\n",
              "  <tbody>\n",
              "    <tr>\n",
              "      <th>0</th>\n",
              "      <td>0.0</td>\n",
              "      <td>0.0</td>\n",
              "      <td>21869</td>\n",
              "      <td>35346</td>\n",
              "      <td>0.618712</td>\n",
              "    </tr>\n",
              "    <tr>\n",
              "      <th>1</th>\n",
              "      <td>0.0</td>\n",
              "      <td>1.0</td>\n",
              "      <td>13477</td>\n",
              "      <td>35346</td>\n",
              "      <td>0.381288</td>\n",
              "    </tr>\n",
              "    <tr>\n",
              "      <th>2</th>\n",
              "      <td>1.0</td>\n",
              "      <td>0.0</td>\n",
              "      <td>11660</td>\n",
              "      <td>35346</td>\n",
              "      <td>0.329882</td>\n",
              "    </tr>\n",
              "    <tr>\n",
              "      <th>3</th>\n",
              "      <td>1.0</td>\n",
              "      <td>1.0</td>\n",
              "      <td>23686</td>\n",
              "      <td>35346</td>\n",
              "      <td>0.670118</td>\n",
              "    </tr>\n",
              "  </tbody>\n",
              "</table>\n",
              "</div>"
            ],
            "text/plain": [
              "   Diabetes  CholAlto  Count  Count_  Percentage\n",
              "0       0.0       0.0  21869   35346    0.618712\n",
              "1       0.0       1.0  13477   35346    0.381288\n",
              "2       1.0       0.0  11660   35346    0.329882\n",
              "3       1.0       1.0  23686   35346    0.670118"
            ]
          },
          "execution_count": 30,
          "metadata": {},
          "output_type": "execute_result"
        }
      ],
      "source": [
        "Temp4 = diabetes_ca.set_index('Diabetes').join(Total_ca,rsuffix='_')\n",
        "Temp4['Percentage'] = Temp4['Count']/Temp4['Count_']\n",
        "Temp4 = Temp4.reset_index()\n",
        "Temp4"
      ]
    },
    {
      "cell_type": "code",
      "execution_count": 31,
      "metadata": {
        "id": "TbpnqjGV19hu"
      },
      "outputs": [],
      "source": [
        "Temp4['Diabetes'] = Temp4['Diabetes'].replace({0.0:'Saudável', 1.0:'Diabético'})\n",
        "Temp4['CholAlto'] = Temp4['CholAlto'].replace({0.0:'Colesterol Alto - Não',1.0:'Colesterol Alto - Sim' })"
      ]
    },
    {
      "cell_type": "code",
      "execution_count": 33,
      "metadata": {
        "colab": {
          "base_uri": "https://localhost:8080/",
          "height": 897
        },
        "id": "Yeplw4IE19kw",
        "outputId": "01f60349-e792-4525-a909-b4dbef231d3e"
      },
      "outputs": [
        {
          "data": {
            "image/png": "[encoded data removed]",
            "text/plain": [
              "<Figure size 1800x1080 with 1 Axes>"
            ]
          },
          "metadata": {},
          "output_type": "display_data"
        }
      ],
      "source": [
        "plt.figure(figsize = (25,15))\n",
        "sns.barplot(x = 'Diabetes', y = 'Percentage', hue = 'CholAlto', data = Temp4, palette = 'Set2')\n",
        "plt.title(\"Diabetes x Colesterol Alto\")\n",
        "plt.show()"
      ]
    },
    {
      "cell_type": "markdown",
      "metadata": {
        "id": "7lM08ZK58SWC"
      },
      "source": [
        "Dentre os respondentes 'saudáveis', 61% nunca foram informados com alterações no colesterol. Dentre os considerados diabéticos, 67%, já foram indicados como possuindo colesterol alto. Reforçando a hipótese que o colesterol é um indicador de alteração da saúde dos diabéticos."
      ]
    },
    {
      "cell_type": "code",
      "execution_count": 34,
      "metadata": {
        "colab": {
          "base_uri": "https://localhost:8080/"
        },
        "id": "8Lqk1RY519nj",
        "outputId": "fdde99a3-40d9-4f44-981d-719697eb49b3"
      },
      "outputs": [
        {
          "name": "stdout",
          "output_type": "stream",
          "text": [
            "   Diabetes  SdGeral  Count\n",
            "0       0.0      1.0   7142\n",
            "1       0.0      2.0  13491\n",
            "2       0.0      3.0   9970\n",
            "3       0.0      4.0   3513\n",
            "4       0.0      5.0   1230\n",
            "5       1.0      1.0   1140\n",
            "6       1.0      2.0   6381\n",
            "7       1.0      3.0  13457\n",
            "8       1.0      4.0   9790\n",
            "9       1.0      5.0   4578\n"
          ]
        }
      ],
      "source": [
        "diabetes_sg = df_diabetes.groupby(['Diabetes', 'SdGeral']).size().reset_index(name = 'Count')\n",
        "print(diabetes_sg)"
      ]
    },
    {
      "cell_type": "code",
      "execution_count": 35,
      "metadata": {
        "colab": {
          "base_uri": "https://localhost:8080/"
        },
        "id": "bGEB5Lpu19qH",
        "outputId": "c9ac89bb-b6dd-4473-f296-363da3a7f313"
      },
      "outputs": [
        {
          "data": {
            "text/plain": [
              "Diabetes\n",
              "0.0    35346\n",
              "1.0    35346\n",
              "Name: Count, dtype: int64"
            ]
          },
          "execution_count": 35,
          "metadata": {},
          "output_type": "execute_result"
        }
      ],
      "source": [
        "Total_sg = diabetes_sg.groupby(['Diabetes']).sum().Count\n",
        "Total_sg"
      ]
    },
    {
      "cell_type": "code",
      "execution_count": 36,
      "metadata": {
        "colab": {
          "base_uri": "https://localhost:8080/",
          "height": 363
        },
        "id": "JXo33Ah519wN",
        "outputId": "6e05cd4f-87bc-474e-984a-4ea7d0837e86"
      },
      "outputs": [
        {
          "data": {
            "text/html": [
              "<div>\n",
              "<style scoped>\n",
              "    .dataframe tbody tr th:only-of-type {\n",
              "        vertical-align: middle;\n",
              "    }\n",
              "\n",
              "    .dataframe tbody tr th {\n",
              "        vertical-align: top;\n",
              "    }\n",
              "\n",
              "    .dataframe thead th {\n",
              "        text-align: right;\n",
              "    }\n",
              "</style>\n",
              "<table border=\"1\" class=\"dataframe\">\n",
              "  <thead>\n",
              "    <tr style=\"text-align: right;\">\n",
              "      <th></th>\n",
              "      <th>Diabetes</th>\n",
              "      <th>SdGeral</th>\n",
              "      <th>Count</th>\n",
              "      <th>Count_</th>\n",
              "      <th>Percentage</th>\n",
              "    </tr>\n",
              "  </thead>\n",
              "  <tbody>\n",
              "    <tr>\n",
              "      <th>0</th>\n",
              "      <td>0.0</td>\n",
              "      <td>1.0</td>\n",
              "      <td>7142</td>\n",
              "      <td>35346</td>\n",
              "      <td>0.202060</td>\n",
              "    </tr>\n",
              "    <tr>\n",
              "      <th>1</th>\n",
              "      <td>0.0</td>\n",
              "      <td>2.0</td>\n",
              "      <td>13491</td>\n",
              "      <td>35346</td>\n",
              "      <td>0.381684</td>\n",
              "    </tr>\n",
              "    <tr>\n",
              "      <th>2</th>\n",
              "      <td>0.0</td>\n",
              "      <td>3.0</td>\n",
              "      <td>9970</td>\n",
              "      <td>35346</td>\n",
              "      <td>0.282069</td>\n",
              "    </tr>\n",
              "    <tr>\n",
              "      <th>3</th>\n",
              "      <td>0.0</td>\n",
              "      <td>4.0</td>\n",
              "      <td>3513</td>\n",
              "      <td>35346</td>\n",
              "      <td>0.099389</td>\n",
              "    </tr>\n",
              "    <tr>\n",
              "      <th>4</th>\n",
              "      <td>0.0</td>\n",
              "      <td>5.0</td>\n",
              "      <td>1230</td>\n",
              "      <td>35346</td>\n",
              "      <td>0.034799</td>\n",
              "    </tr>\n",
              "    <tr>\n",
              "      <th>5</th>\n",
              "      <td>1.0</td>\n",
              "      <td>1.0</td>\n",
              "      <td>1140</td>\n",
              "      <td>35346</td>\n",
              "      <td>0.032253</td>\n",
              "    </tr>\n",
              "    <tr>\n",
              "      <th>6</th>\n",
              "      <td>1.0</td>\n",
              "      <td>2.0</td>\n",
              "      <td>6381</td>\n",
              "      <td>35346</td>\n",
              "      <td>0.180530</td>\n",
              "    </tr>\n",
              "    <tr>\n",
              "      <th>7</th>\n",
              "      <td>1.0</td>\n",
              "      <td>3.0</td>\n",
              "      <td>13457</td>\n",
              "      <td>35346</td>\n",
              "      <td>0.380722</td>\n",
              "    </tr>\n",
              "    <tr>\n",
              "      <th>8</th>\n",
              "      <td>1.0</td>\n",
              "      <td>4.0</td>\n",
              "      <td>9790</td>\n",
              "      <td>35346</td>\n",
              "      <td>0.276976</td>\n",
              "    </tr>\n",
              "    <tr>\n",
              "      <th>9</th>\n",
              "      <td>1.0</td>\n",
              "      <td>5.0</td>\n",
              "      <td>4578</td>\n",
              "      <td>35346</td>\n",
              "      <td>0.129520</td>\n",
              "    </tr>\n",
              "  </tbody>\n",
              "</table>\n",
              "</div>"
            ],
            "text/plain": [
              "   Diabetes  SdGeral  Count  Count_  Percentage\n",
              "0       0.0      1.0   7142   35346    0.202060\n",
              "1       0.0      2.0  13491   35346    0.381684\n",
              "2       0.0      3.0   9970   35346    0.282069\n",
              "3       0.0      4.0   3513   35346    0.099389\n",
              "4       0.0      5.0   1230   35346    0.034799\n",
              "5       1.0      1.0   1140   35346    0.032253\n",
              "6       1.0      2.0   6381   35346    0.180530\n",
              "7       1.0      3.0  13457   35346    0.380722\n",
              "8       1.0      4.0   9790   35346    0.276976\n",
              "9       1.0      5.0   4578   35346    0.129520"
            ]
          },
          "execution_count": 36,
          "metadata": {},
          "output_type": "execute_result"
        }
      ],
      "source": [
        "Temp5 = diabetes_sg.set_index('Diabetes').join(Total_sg,rsuffix='_')\n",
        "Temp5['Percentage'] = Temp5['Count']/Temp5['Count_']\n",
        "Temp5 = Temp5.reset_index()\n",
        "Temp5"
      ]
    },
    {
      "cell_type": "code",
      "execution_count": 37,
      "metadata": {
        "id": "Otez1j8Z190-"
      },
      "outputs": [],
      "source": [
        "Temp5['Diabetes'] = Temp5['Diabetes'].replace({0.0:'Saudável', 1.0:'Diabético'})\n",
        "Temp5['SdGeral'] = Temp5['SdGeral'].replace({1.0:'Excelente', 2.0:'Muito Bom', 3.0:'Bom', 4.0:'Razoável', 5.0:'Ruim'})"
      ]
    },
    {
      "cell_type": "code",
      "execution_count": 38,
      "metadata": {
        "colab": {
          "base_uri": "https://localhost:8080/",
          "height": 897
        },
        "id": "Jh3rz-RV194A",
        "outputId": "97438daf-9218-4990-cb4a-475e1451a677"
      },
      "outputs": [
        {
          "data": {
            "image/png": "[encoded data removed]",
            "text/plain": [
              "<Figure size 1800x1080 with 1 Axes>"
            ]
          },
          "metadata": {},
          "output_type": "display_data"
        }
      ],
      "source": [
        "plt.figure(figsize = (25,15))\n",
        "sns.barplot(x = 'Diabetes', y = 'Percentage', hue = 'SdGeral', data = Temp5, palette = 'Set2')\n",
        "plt.title(\"Diabetes x Saúde Geral\")\n",
        "plt.show()"
      ]
    },
    {
      "cell_type": "markdown",
      "metadata": {
        "id": "vmMlUuta-ukH"
      },
      "source": [
        "Dentre os respondente que não são diabéticos, observa-se a concentração de 'Saúde Geral' como 'Muito Bom' (38%) e 'Bom'(28%).\n",
        "Para os participantes 'diabéticos', a percepção da saúde geral é 'boa'(38%) e 'razoável'(27%).\n",
        "A pergunta deste item foi 'Você diria que em geral sua saúde é?' - implicando numa resposta de percepção subjetiva, não sendo um bom indicador para predição."
      ]
    },
    {
      "cell_type": "code",
      "execution_count": 39,
      "metadata": {
        "colab": {
          "base_uri": "https://localhost:8080/"
        },
        "id": "tAg1w2Rm196X",
        "outputId": "366d18fc-5295-48f4-9524-8996d82db8e9"
      },
      "outputs": [
        {
          "name": "stdout",
          "output_type": "stream",
          "text": [
            "   Diabetes  ConsAlcool  Count\n",
            "0       0.0         0.0  33158\n",
            "1       0.0         1.0   2188\n",
            "2       1.0         0.0  34514\n",
            "3       1.0         1.0    832\n"
          ]
        }
      ],
      "source": [
        "diabetes_ac = df_diabetes.groupby(['Diabetes', 'ConsAlcool']).size().reset_index(name = 'Count')\n",
        "print(diabetes_ac)"
      ]
    },
    {
      "cell_type": "code",
      "execution_count": 40,
      "metadata": {
        "colab": {
          "base_uri": "https://localhost:8080/"
        },
        "id": "XxhP9yAZ_3Vh",
        "outputId": "801786c0-71cc-4508-d88e-94f215ec9e26"
      },
      "outputs": [
        {
          "data": {
            "text/plain": [
              "Diabetes\n",
              "0.0    35346\n",
              "1.0    35346\n",
              "Name: Count, dtype: int64"
            ]
          },
          "execution_count": 40,
          "metadata": {},
          "output_type": "execute_result"
        }
      ],
      "source": [
        "Total_ac = diabetes_ac.groupby(['Diabetes']).sum().Count\n",
        "Total_ac"
      ]
    },
    {
      "cell_type": "code",
      "execution_count": 41,
      "metadata": {
        "colab": {
          "base_uri": "https://localhost:8080/",
          "height": 175
        },
        "id": "6rLDfa1K_3do",
        "outputId": "b8eefcb1-7dda-4eca-d6bd-e79bc8ca8d26"
      },
      "outputs": [
        {
          "data": {
            "text/html": [
              "<div>\n",
              "<style scoped>\n",
              "    .dataframe tbody tr th:only-of-type {\n",
              "        vertical-align: middle;\n",
              "    }\n",
              "\n",
              "    .dataframe tbody tr th {\n",
              "        vertical-align: top;\n",
              "    }\n",
              "\n",
              "    .dataframe thead th {\n",
              "        text-align: right;\n",
              "    }\n",
              "</style>\n",
              "<table border=\"1\" class=\"dataframe\">\n",
              "  <thead>\n",
              "    <tr style=\"text-align: right;\">\n",
              "      <th></th>\n",
              "      <th>Diabetes</th>\n",
              "      <th>ConsAlcool</th>\n",
              "      <th>Count</th>\n",
              "      <th>Count_</th>\n",
              "      <th>Percentage</th>\n",
              "    </tr>\n",
              "  </thead>\n",
              "  <tbody>\n",
              "    <tr>\n",
              "      <th>0</th>\n",
              "      <td>0.0</td>\n",
              "      <td>0.0</td>\n",
              "      <td>33158</td>\n",
              "      <td>35346</td>\n",
              "      <td>0.938098</td>\n",
              "    </tr>\n",
              "    <tr>\n",
              "      <th>1</th>\n",
              "      <td>0.0</td>\n",
              "      <td>1.0</td>\n",
              "      <td>2188</td>\n",
              "      <td>35346</td>\n",
              "      <td>0.061902</td>\n",
              "    </tr>\n",
              "    <tr>\n",
              "      <th>2</th>\n",
              "      <td>1.0</td>\n",
              "      <td>0.0</td>\n",
              "      <td>34514</td>\n",
              "      <td>35346</td>\n",
              "      <td>0.976461</td>\n",
              "    </tr>\n",
              "    <tr>\n",
              "      <th>3</th>\n",
              "      <td>1.0</td>\n",
              "      <td>1.0</td>\n",
              "      <td>832</td>\n",
              "      <td>35346</td>\n",
              "      <td>0.023539</td>\n",
              "    </tr>\n",
              "  </tbody>\n",
              "</table>\n",
              "</div>"
            ],
            "text/plain": [
              "   Diabetes  ConsAlcool  Count  Count_  Percentage\n",
              "0       0.0         0.0  33158   35346    0.938098\n",
              "1       0.0         1.0   2188   35346    0.061902\n",
              "2       1.0         0.0  34514   35346    0.976461\n",
              "3       1.0         1.0    832   35346    0.023539"
            ]
          },
          "execution_count": 41,
          "metadata": {},
          "output_type": "execute_result"
        }
      ],
      "source": [
        "Temp6 = diabetes_ac.set_index('Diabetes').join(Total_ac,rsuffix='_')\n",
        "Temp6['Percentage'] = Temp6['Count']/Temp6['Count_']\n",
        "Temp6 = Temp6.reset_index()\n",
        "Temp6"
      ]
    },
    {
      "cell_type": "code",
      "execution_count": 42,
      "metadata": {
        "id": "XmlsUoou_3hI"
      },
      "outputs": [],
      "source": [
        "Temp6['Diabetes'] = Temp6['Diabetes'].replace({0.0:'Saudável', 1.0:'Diabético'})\n",
        "Temp6['ConsAlcool'] = Temp6['ConsAlcool'].replace({0.0:'Não',1.0:'Sim' })"
      ]
    },
    {
      "cell_type": "code",
      "execution_count": 43,
      "metadata": {
        "colab": {
          "base_uri": "https://localhost:8080/",
          "height": 1000
        },
        "id": "-ZuBFz2z_3ke",
        "outputId": "3f1dfc21-af09-4518-ea05-71b15c49f8c6"
      },
      "outputs": [
        {
          "data": {
            "image/png": "[encoded data removed]",
            "text/plain": [
              "<Figure size 1800x1080 with 1 Axes>"
            ]
          },
          "metadata": {},
          "output_type": "display_data"
        }
      ],
      "source": [
        "plt.figure(figsize = (25,15))\n",
        "sns.barplot(x = 'Diabetes', y = 'Percentage', hue = 'ConsAlcool', data = Temp6, palette = 'Set2')\n",
        "plt.title(\"Diabetes x Saúde Geral\")\n",
        "plt.show()"
      ]
    },
    {
      "cell_type": "markdown",
      "metadata": {
        "id": "HGioAjQJAjQ0"
      },
      "source": [
        "​​Considerado consumo excessivo de álcool: homens adultos com mais de 14 doses por semana e mulheres adultas com mais de 7 doses por semana.\n",
        "Para ambos os grupos, não há grande expressão de consumo excessivo, não indicando uma features a ser considerada no modelo."
      ]
    },
    {
      "cell_type": "code",
      "execution_count": 42,
      "metadata": {
        "colab": {
          "base_uri": "https://localhost:8080/"
        },
        "id": "YMnMu9yKMgp5",
        "outputId": "21d23b09-6946-4263-fd75-21d98958b770"
      },
      "outputs": [
        {
          "name": "stdout",
          "output_type": "stream",
          "text": [
            "   Diabetes  DifCaminhar  Count\n",
            "0       0.0          0.0  30601\n",
            "1       0.0          1.0   4745\n",
            "2       1.0          0.0  22225\n",
            "3       1.0          1.0  13121\n"
          ]
        }
      ],
      "source": [
        "diabetes_cam = df_diabetes.groupby(['Diabetes', 'DifCaminhar']).size().reset_index(name = 'Count')\n",
        "print(diabetes_cam)"
      ]
    },
    {
      "cell_type": "code",
      "execution_count": 43,
      "metadata": {
        "colab": {
          "base_uri": "https://localhost:8080/"
        },
        "id": "CkoTAsQEMgs3",
        "outputId": "0fe96a8a-734e-4c57-9dd3-9f38481c5c81"
      },
      "outputs": [
        {
          "data": {
            "text/plain": [
              "Diabetes\n",
              "0.0    35346\n",
              "1.0    35346\n",
              "Name: Count, dtype: int64"
            ]
          },
          "execution_count": 43,
          "metadata": {},
          "output_type": "execute_result"
        }
      ],
      "source": [
        "Total_dc = diabetes_cam.groupby(['Diabetes']).sum().Count\n",
        "Total_dc"
      ]
    },
    {
      "cell_type": "code",
      "execution_count": 44,
      "metadata": {
        "colab": {
          "base_uri": "https://localhost:8080/",
          "height": 175
        },
        "id": "onmNTckgMgvy",
        "outputId": "76937a31-d6e8-4cb3-f8c7-dfd8ee6b9cb1"
      },
      "outputs": [
        {
          "data": {
            "text/html": [
              "\n",
              "  <div id=\"df-4f9dedf6-dd7d-419c-85b6-e43a0c1c6397\">\n",
              "    <div class=\"colab-df-container\">\n",
              "      <div>\n",
              "<style scoped>\n",
              "    .dataframe tbody tr th:only-of-type {\n",
              "        vertical-align: middle;\n",
              "    }\n",
              "\n",
              "    .dataframe tbody tr th {\n",
              "        vertical-align: top;\n",
              "    }\n",
              "\n",
              "    .dataframe thead th {\n",
              "        text-align: right;\n",
              "    }\n",
              "</style>\n",
              "<table border=\"1\" class=\"dataframe\">\n",
              "  <thead>\n",
              "    <tr style=\"text-align: right;\">\n",
              "      <th></th>\n",
              "      <th>Diabetes</th>\n",
              "      <th>DifCaminhar</th>\n",
              "      <th>Count</th>\n",
              "      <th>Count_</th>\n",
              "      <th>Percentage</th>\n",
              "    </tr>\n",
              "  </thead>\n",
              "  <tbody>\n",
              "    <tr>\n",
              "      <th>0</th>\n",
              "      <td>0.0</td>\n",
              "      <td>0.0</td>\n",
              "      <td>30601</td>\n",
              "      <td>35346</td>\n",
              "      <td>0.865756</td>\n",
              "    </tr>\n",
              "    <tr>\n",
              "      <th>1</th>\n",
              "      <td>0.0</td>\n",
              "      <td>1.0</td>\n",
              "      <td>4745</td>\n",
              "      <td>35346</td>\n",
              "      <td>0.134244</td>\n",
              "    </tr>\n",
              "    <tr>\n",
              "      <th>2</th>\n",
              "      <td>1.0</td>\n",
              "      <td>0.0</td>\n",
              "      <td>22225</td>\n",
              "      <td>35346</td>\n",
              "      <td>0.628784</td>\n",
              "    </tr>\n",
              "    <tr>\n",
              "      <th>3</th>\n",
              "      <td>1.0</td>\n",
              "      <td>1.0</td>\n",
              "      <td>13121</td>\n",
              "      <td>35346</td>\n",
              "      <td>0.371216</td>\n",
              "    </tr>\n",
              "  </tbody>\n",
              "</table>\n",
              "</div>\n",
              "      <button class=\"colab-df-convert\" onclick=\"convertToInteractive('df-4f9dedf6-dd7d-419c-85b6-e43a0c1c6397')\"\n",
              "              title=\"Convert this dataframe to an interactive table.\"\n",
              "              style=\"display:none;\">\n",
              "        \n",
              "  <svg xmlns=\"http://www.w3.org/2000/svg\" height=\"24px\"viewBox=\"0 0 24 24\"\n",
              "       width=\"24px\">\n",
              "    <path d=\"M0 0h24v24H0V0z\" fill=\"none\"/>\n",
              "    <path d=\"M18.56 5.44l.94 2.06.94-2.06 2.06-.94-2.06-.94-.94-2.06-.94 2.06-2.06.94zm-11 1L8.5 8.5l.94-2.06 2.06-.94-2.06-.94L8.5 2.5l-.94 2.06-2.06.94zm10 10l.94 2.06.94-2.06 2.06-.94-2.06-.94-.94-2.06-.94 2.06-2.06.94z\"/><path d=\"M17.41 7.96l-1.37-1.37c-.4-.4-.92-.59-1.43-.59-.52 0-1.04.2-1.43.59L10.3 9.45l-7.72 7.72c-.78.78-.78 2.05 0 2.83L4 21.41c.39.39.9.59 1.41.59.51 0 1.02-.2 1.41-.59l7.78-7.78 2.81-2.81c.8-.78.8-2.07 0-2.86zM5.41 20L4 18.59l7.72-7.72 1.47 1.35L5.41 20z\"/>\n",
              "  </svg>\n",
              "      </button>\n",
              "      \n",
              "  <style>\n",
              "    .colab-df-container {\n",
              "      display:flex;\n",
              "      flex-wrap:wrap;\n",
              "      gap: 12px;\n",
              "    }\n",
              "\n",
              "    .colab-df-convert {\n",
              "      background-color: #E8F0FE;\n",
              "      border: none;\n",
              "      border-radius: 50%;\n",
              "      cursor: pointer;\n",
              "      display: none;\n",
              "      fill: #1967D2;\n",
              "      height: 32px;\n",
              "      padding: 0 0 0 0;\n",
              "      width: 32px;\n",
              "    }\n",
              "\n",
              "    .colab-df-convert:hover {\n",
              "      background-color: #E2EBFA;\n",
              "      box-shadow: 0px 1px 2px rgba(60, 64, 67, 0.3), 0px 1px 3px 1px rgba(60, 64, 67, 0.15);\n",
              "      fill: #174EA6;\n",
              "    }\n",
              "\n",
              "    [theme=dark] .colab-df-convert {\n",
              "      background-color: #3B4455;\n",
              "      fill: #D2E3FC;\n",
              "    }\n",
              "\n",
              "    [theme=dark] .colab-df-convert:hover {\n",
              "      background-color: #434B5C;\n",
              "      box-shadow: 0px 1px 3px 1px rgba(0, 0, 0, 0.15);\n",
              "      filter: drop-shadow(0px 1px 2px rgba(0, 0, 0, 0.3));\n",
              "      fill: #FFFFFF;\n",
              "    }\n",
              "  </style>\n",
              "\n",
              "      <script>\n",
              "        const buttonEl =\n",
              "          document.querySelector('#df-4f9dedf6-dd7d-419c-85b6-e43a0c1c6397 button.colab-df-convert');\n",
              "        buttonEl.style.display =\n",
              "          google.colab.kernel.accessAllowed ? 'block' : 'none';\n",
              "\n",
              "        async function convertToInteractive(key) {\n",
              "          const element = document.querySelector('#df-4f9dedf6-dd7d-419c-85b6-e43a0c1c6397');\n",
              "          const dataTable =\n",
              "            await google.colab.kernel.invokeFunction('convertToInteractive',\n",
              "                                                     [key], {});\n",
              "          if (!dataTable) return;\n",
              "\n",
              "          const docLinkHtml = 'Like what you see? Visit the ' +\n",
              "            '<a target=\"_blank\" href=https://colab.research.google.com/notebooks/data_table.ipynb>data table notebook</a>'\n",
              "            + ' to learn more about interactive tables.';\n",
              "          element.innerHTML = '';\n",
              "          dataTable['output_type'] = 'display_data';\n",
              "          await google.colab.output.renderOutput(dataTable, element);\n",
              "          const docLink = document.createElement('div');\n",
              "          docLink.innerHTML = docLinkHtml;\n",
              "          element.appendChild(docLink);\n",
              "        }\n",
              "      </script>\n",
              "    </div>\n",
              "  </div>\n",
              "  "
            ],
            "text/plain": [
              "   Diabetes  DifCaminhar  Count  Count_  Percentage\n",
              "0       0.0          0.0  30601   35346    0.865756\n",
              "1       0.0          1.0   4745   35346    0.134244\n",
              "2       1.0          0.0  22225   35346    0.628784\n",
              "3       1.0          1.0  13121   35346    0.371216"
            ]
          },
          "execution_count": 44,
          "metadata": {},
          "output_type": "execute_result"
        }
      ],
      "source": [
        "Temp7 = diabetes_cam.set_index('Diabetes').join(Total_dc,rsuffix='_')\n",
        "Temp7['Percentage'] = Temp7['Count']/Temp7['Count_']\n",
        "Temp7 = Temp7.reset_index()\n",
        "Temp7"
      ]
    },
    {
      "cell_type": "code",
      "execution_count": 45,
      "metadata": {
        "id": "o9tgOPMdNryv"
      },
      "outputs": [],
      "source": [
        "Temp7['Diabetes'] = Temp7['Diabetes'].replace({0.0:'Saudável', 1.0:'Diabético'})\n",
        "Temp7['DifCaminhar'] = Temp7['DifCaminhar'].replace({0.0:'Não',1.0:'Sim' })"
      ]
    },
    {
      "cell_type": "code",
      "execution_count": 46,
      "metadata": {
        "colab": {
          "base_uri": "https://localhost:8080/",
          "height": 897
        },
        "id": "Gsc8LCSVMgyo",
        "outputId": "dbabdfa5-2781-41d8-c1ec-4a61485d0dc7"
      },
      "outputs": [
        {
          "data": {
            "image/png": "[encoded data removed]",
            "text/plain": [
              "<Figure size 1800x1080 with 1 Axes>"
            ]
          },
          "metadata": {
            "needs_background": "light"
          },
          "output_type": "display_data"
        }
      ],
      "source": [
        "plt.figure(figsize = (25,15))\n",
        "sns.barplot(x = 'Diabetes', y = 'Percentage', hue = 'DifCaminhar', data = Temp7, palette = 'Set2')\n",
        "plt.title(\"Diabetes x Dificuldade de Caminhar\")\n",
        "plt.show()"
      ]
    },
    {
      "cell_type": "markdown",
      "metadata": {
        "id": "WHodXp7DPRe6"
      },
      "source": [
        "Das pessoas identificadas com diabetes, 37,12% aproximadamente possuem dificuldade de caminhar, podendo apontar já complicações da doença. \n",
        "Enquanto 82,57% e 62,87% dos não-diabéticos e diabéticos, respectivamente, não declararam nenhuma dificuldade para caminhar."
      ]
    },
    {
      "cell_type": "code",
      "execution_count": 47,
      "metadata": {
        "colab": {
          "base_uri": "https://localhost:8080/"
        },
        "id": "b69ujtlHMg1g",
        "outputId": "379d7036-d054-49e0-b32a-f4dcf7221f6a"
      },
      "outputs": [
        {
          "name": "stdout",
          "output_type": "stream",
          "text": [
            "   Diabetes  Frutas  Count\n",
            "0       0.0     0.0  12790\n",
            "1       0.0     1.0  22556\n",
            "2       1.0     0.0  14653\n",
            "3       1.0     1.0  20693\n"
          ]
        }
      ],
      "source": [
        "diabetes_fr = df_diabetes.groupby(['Diabetes', 'Frutas']).size().reset_index(name = 'Count')\n",
        "print(diabetes_fr)"
      ]
    },
    {
      "cell_type": "code",
      "execution_count": 48,
      "metadata": {
        "colab": {
          "base_uri": "https://localhost:8080/"
        },
        "id": "99EHhfK9Mg36",
        "outputId": "5d71cafd-22aa-4758-84d3-5db2169fbef9"
      },
      "outputs": [
        {
          "data": {
            "text/plain": [
              "Diabetes\n",
              "0.0    35346\n",
              "1.0    35346\n",
              "Name: Count, dtype: int64"
            ]
          },
          "execution_count": 48,
          "metadata": {},
          "output_type": "execute_result"
        }
      ],
      "source": [
        "Total_fr = diabetes_fr.groupby(['Diabetes']).sum().Count\n",
        "Total_fr"
      ]
    },
    {
      "cell_type": "code",
      "execution_count": 49,
      "metadata": {
        "colab": {
          "base_uri": "https://localhost:8080/",
          "height": 175
        },
        "id": "_9zL1HxxMg6m",
        "outputId": "abd7c4fa-e55d-4c30-ca46-d8949b855099"
      },
      "outputs": [
        {
          "data": {
            "text/html": [
              "\n",
              "  <div id=\"df-88c15f51-ab85-42b8-915c-405a157a70e9\">\n",
              "    <div class=\"colab-df-container\">\n",
              "      <div>\n",
              "<style scoped>\n",
              "    .dataframe tbody tr th:only-of-type {\n",
              "        vertical-align: middle;\n",
              "    }\n",
              "\n",
              "    .dataframe tbody tr th {\n",
              "        vertical-align: top;\n",
              "    }\n",
              "\n",
              "    .dataframe thead th {\n",
              "        text-align: right;\n",
              "    }\n",
              "</style>\n",
              "<table border=\"1\" class=\"dataframe\">\n",
              "  <thead>\n",
              "    <tr style=\"text-align: right;\">\n",
              "      <th></th>\n",
              "      <th>Diabetes</th>\n",
              "      <th>Frutas</th>\n",
              "      <th>Count</th>\n",
              "      <th>Count_</th>\n",
              "      <th>Percentage</th>\n",
              "    </tr>\n",
              "  </thead>\n",
              "  <tbody>\n",
              "    <tr>\n",
              "      <th>0</th>\n",
              "      <td>0.0</td>\n",
              "      <td>0.0</td>\n",
              "      <td>12790</td>\n",
              "      <td>35346</td>\n",
              "      <td>0.361851</td>\n",
              "    </tr>\n",
              "    <tr>\n",
              "      <th>1</th>\n",
              "      <td>0.0</td>\n",
              "      <td>1.0</td>\n",
              "      <td>22556</td>\n",
              "      <td>35346</td>\n",
              "      <td>0.638149</td>\n",
              "    </tr>\n",
              "    <tr>\n",
              "      <th>2</th>\n",
              "      <td>1.0</td>\n",
              "      <td>0.0</td>\n",
              "      <td>14653</td>\n",
              "      <td>35346</td>\n",
              "      <td>0.414559</td>\n",
              "    </tr>\n",
              "    <tr>\n",
              "      <th>3</th>\n",
              "      <td>1.0</td>\n",
              "      <td>1.0</td>\n",
              "      <td>20693</td>\n",
              "      <td>35346</td>\n",
              "      <td>0.585441</td>\n",
              "    </tr>\n",
              "  </tbody>\n",
              "</table>\n",
              "</div>\n",
              "      <button class=\"colab-df-convert\" onclick=\"convertToInteractive('df-88c15f51-ab85-42b8-915c-405a157a70e9')\"\n",
              "              title=\"Convert this dataframe to an interactive table.\"\n",
              "              style=\"display:none;\">\n",
              "        \n",
              "  <svg xmlns=\"http://www.w3.org/2000/svg\" height=\"24px\"viewBox=\"0 0 24 24\"\n",
              "       width=\"24px\">\n",
              "    <path d=\"M0 0h24v24H0V0z\" fill=\"none\"/>\n",
              "    <path d=\"M18.56 5.44l.94 2.06.94-2.06 2.06-.94-2.06-.94-.94-2.06-.94 2.06-2.06.94zm-11 1L8.5 8.5l.94-2.06 2.06-.94-2.06-.94L8.5 2.5l-.94 2.06-2.06.94zm10 10l.94 2.06.94-2.06 2.06-.94-2.06-.94-.94-2.06-.94 2.06-2.06.94z\"/><path d=\"M17.41 7.96l-1.37-1.37c-.4-.4-.92-.59-1.43-.59-.52 0-1.04.2-1.43.59L10.3 9.45l-7.72 7.72c-.78.78-.78 2.05 0 2.83L4 21.41c.39.39.9.59 1.41.59.51 0 1.02-.2 1.41-.59l7.78-7.78 2.81-2.81c.8-.78.8-2.07 0-2.86zM5.41 20L4 18.59l7.72-7.72 1.47 1.35L5.41 20z\"/>\n",
              "  </svg>\n",
              "      </button>\n",
              "      \n",
              "  <style>\n",
              "    .colab-df-container {\n",
              "      display:flex;\n",
              "      flex-wrap:wrap;\n",
              "      gap: 12px;\n",
              "    }\n",
              "\n",
              "    .colab-df-convert {\n",
              "      background-color: #E8F0FE;\n",
              "      border: none;\n",
              "      border-radius: 50%;\n",
              "      cursor: pointer;\n",
              "      display: none;\n",
              "      fill: #1967D2;\n",
              "      height: 32px;\n",
              "      padding: 0 0 0 0;\n",
              "      width: 32px;\n",
              "    }\n",
              "\n",
              "    .colab-df-convert:hover {\n",
              "      background-color: #E2EBFA;\n",
              "      box-shadow: 0px 1px 2px rgba(60, 64, 67, 0.3), 0px 1px 3px 1px rgba(60, 64, 67, 0.15);\n",
              "      fill: #174EA6;\n",
              "    }\n",
              "\n",
              "    [theme=dark] .colab-df-convert {\n",
              "      background-color: #3B4455;\n",
              "      fill: #D2E3FC;\n",
              "    }\n",
              "\n",
              "    [theme=dark] .colab-df-convert:hover {\n",
              "      background-color: #434B5C;\n",
              "      box-shadow: 0px 1px 3px 1px rgba(0, 0, 0, 0.15);\n",
              "      filter: drop-shadow(0px 1px 2px rgba(0, 0, 0, 0.3));\n",
              "      fill: #FFFFFF;\n",
              "    }\n",
              "  </style>\n",
              "\n",
              "      <script>\n",
              "        const buttonEl =\n",
              "          document.querySelector('#df-88c15f51-ab85-42b8-915c-405a157a70e9 button.colab-df-convert');\n",
              "        buttonEl.style.display =\n",
              "          google.colab.kernel.accessAllowed ? 'block' : 'none';\n",
              "\n",
              "        async function convertToInteractive(key) {\n",
              "          const element = document.querySelector('#df-88c15f51-ab85-42b8-915c-405a157a70e9');\n",
              "          const dataTable =\n",
              "            await google.colab.kernel.invokeFunction('convertToInteractive',\n",
              "                                                     [key], {});\n",
              "          if (!dataTable) return;\n",
              "\n",
              "          const docLinkHtml = 'Like what you see? Visit the ' +\n",
              "            '<a target=\"_blank\" href=https://colab.research.google.com/notebooks/data_table.ipynb>data table notebook</a>'\n",
              "            + ' to learn more about interactive tables.';\n",
              "          element.innerHTML = '';\n",
              "          dataTable['output_type'] = 'display_data';\n",
              "          await google.colab.output.renderOutput(dataTable, element);\n",
              "          const docLink = document.createElement('div');\n",
              "          docLink.innerHTML = docLinkHtml;\n",
              "          element.appendChild(docLink);\n",
              "        }\n",
              "      </script>\n",
              "    </div>\n",
              "  </div>\n",
              "  "
            ],
            "text/plain": [
              "   Diabetes  Frutas  Count  Count_  Percentage\n",
              "0       0.0     0.0  12790   35346    0.361851\n",
              "1       0.0     1.0  22556   35346    0.638149\n",
              "2       1.0     0.0  14653   35346    0.414559\n",
              "3       1.0     1.0  20693   35346    0.585441"
            ]
          },
          "execution_count": 49,
          "metadata": {},
          "output_type": "execute_result"
        }
      ],
      "source": [
        "Temp8 = diabetes_fr.set_index('Diabetes').join(Total_fr,rsuffix='_')\n",
        "Temp8['Percentage'] = Temp8['Count']/Temp8['Count_']\n",
        "Temp8 = Temp8.reset_index()\n",
        "Temp8"
      ]
    },
    {
      "cell_type": "code",
      "execution_count": 50,
      "metadata": {
        "id": "u978Q2koMg9C"
      },
      "outputs": [],
      "source": [
        "Temp8['Diabetes'] = Temp8['Diabetes'].replace({0.0:'Saudável', 1.0:'Diabético'})\n",
        "Temp8['Frutas'] = Temp8['Frutas'].replace({0.0:'Não',1.0:'Sim' })"
      ]
    },
    {
      "cell_type": "code",
      "execution_count": 51,
      "metadata": {
        "colab": {
          "base_uri": "https://localhost:8080/",
          "height": 897
        },
        "id": "qdtTsgt4Mg_t",
        "outputId": "3d6ee18b-941d-4ab9-983f-7e5e9aa065c1"
      },
      "outputs": [
        {
          "data": {
            "image/png": "[encoded data removed]",
            "text/plain": [
              "<Figure size 1800x1080 with 1 Axes>"
            ]
          },
          "metadata": {
            "needs_background": "light"
          },
          "output_type": "display_data"
        }
      ],
      "source": [
        "plt.figure(figsize = (25,15))\n",
        "sns.barplot(x = 'Diabetes', y = 'Percentage', hue = 'Frutas', data = Temp8, palette = 'Set2')\n",
        "plt.title(\"Diabetes x Consumo de Frutas\")\n",
        "plt.show()"
      ]
    },
    {
      "cell_type": "markdown",
      "metadata": {
        "id": "uUafM1-WP-7p"
      },
      "source": [
        "Em ambos grupos, diabéticos e não-diabéticos, o consumo de frutas na dieta é maior: 58,54% e 63,81%, respectivamente."
      ]
    },
    {
      "cell_type": "code",
      "execution_count": 52,
      "metadata": {
        "colab": {
          "base_uri": "https://localhost:8080/"
        },
        "id": "bTpm2AcTMhCl",
        "outputId": "08bfbbe3-bb45-4c49-fcb8-df5d0dffa9d5"
      },
      "outputs": [
        {
          "name": "stdout",
          "output_type": "stream",
          "text": [
            "   Diabetes  Vegetais  Count\n",
            "0       0.0       0.0   6322\n",
            "1       0.0       1.0  29024\n",
            "2       1.0       0.0   8610\n",
            "3       1.0       1.0  26736\n"
          ]
        }
      ],
      "source": [
        "diabetes_vg = df_diabetes.groupby(['Diabetes', 'Vegetais']).size().reset_index(name = 'Count')\n",
        "print(diabetes_vg)"
      ]
    },
    {
      "cell_type": "code",
      "execution_count": 53,
      "metadata": {
        "colab": {
          "base_uri": "https://localhost:8080/"
        },
        "id": "g9r3fLj8O3Lk",
        "outputId": "2dce8d26-4384-40d3-e444-e9d2bd4f7145"
      },
      "outputs": [
        {
          "data": {
            "text/plain": [
              "Diabetes\n",
              "0.0    35346\n",
              "1.0    35346\n",
              "Name: Count, dtype: int64"
            ]
          },
          "execution_count": 53,
          "metadata": {},
          "output_type": "execute_result"
        }
      ],
      "source": [
        "Total_vg = diabetes_vg.groupby(['Diabetes']).sum().Count\n",
        "Total_vg"
      ]
    },
    {
      "cell_type": "code",
      "execution_count": 54,
      "metadata": {
        "colab": {
          "base_uri": "https://localhost:8080/",
          "height": 175
        },
        "id": "A-NgqMqKO3Ok",
        "outputId": "a62ad5a5-7ef4-4df4-89d7-6b473bfcdc24"
      },
      "outputs": [
        {
          "data": {
            "text/html": [
              "\n",
              "  <div id=\"df-68e78649-16d7-452d-a4ab-486d5699c0cb\">\n",
              "    <div class=\"colab-df-container\">\n",
              "      <div>\n",
              "<style scoped>\n",
              "    .dataframe tbody tr th:only-of-type {\n",
              "        vertical-align: middle;\n",
              "    }\n",
              "\n",
              "    .dataframe tbody tr th {\n",
              "        vertical-align: top;\n",
              "    }\n",
              "\n",
              "    .dataframe thead th {\n",
              "        text-align: right;\n",
              "    }\n",
              "</style>\n",
              "<table border=\"1\" class=\"dataframe\">\n",
              "  <thead>\n",
              "    <tr style=\"text-align: right;\">\n",
              "      <th></th>\n",
              "      <th>Diabetes</th>\n",
              "      <th>Vegetais</th>\n",
              "      <th>Count</th>\n",
              "      <th>Count_</th>\n",
              "      <th>Percentage</th>\n",
              "    </tr>\n",
              "  </thead>\n",
              "  <tbody>\n",
              "    <tr>\n",
              "      <th>0</th>\n",
              "      <td>0.0</td>\n",
              "      <td>0.0</td>\n",
              "      <td>6322</td>\n",
              "      <td>35346</td>\n",
              "      <td>0.178860</td>\n",
              "    </tr>\n",
              "    <tr>\n",
              "      <th>1</th>\n",
              "      <td>0.0</td>\n",
              "      <td>1.0</td>\n",
              "      <td>29024</td>\n",
              "      <td>35346</td>\n",
              "      <td>0.821140</td>\n",
              "    </tr>\n",
              "    <tr>\n",
              "      <th>2</th>\n",
              "      <td>1.0</td>\n",
              "      <td>0.0</td>\n",
              "      <td>8610</td>\n",
              "      <td>35346</td>\n",
              "      <td>0.243592</td>\n",
              "    </tr>\n",
              "    <tr>\n",
              "      <th>3</th>\n",
              "      <td>1.0</td>\n",
              "      <td>1.0</td>\n",
              "      <td>26736</td>\n",
              "      <td>35346</td>\n",
              "      <td>0.756408</td>\n",
              "    </tr>\n",
              "  </tbody>\n",
              "</table>\n",
              "</div>\n",
              "      <button class=\"colab-df-convert\" onclick=\"convertToInteractive('df-68e78649-16d7-452d-a4ab-486d5699c0cb')\"\n",
              "              title=\"Convert this dataframe to an interactive table.\"\n",
              "              style=\"display:none;\">\n",
              "        \n",
              "  <svg xmlns=\"http://www.w3.org/2000/svg\" height=\"24px\"viewBox=\"0 0 24 24\"\n",
              "       width=\"24px\">\n",
              "    <path d=\"M0 0h24v24H0V0z\" fill=\"none\"/>\n",
              "    <path d=\"M18.56 5.44l.94 2.06.94-2.06 2.06-.94-2.06-.94-.94-2.06-.94 2.06-2.06.94zm-11 1L8.5 8.5l.94-2.06 2.06-.94-2.06-.94L8.5 2.5l-.94 2.06-2.06.94zm10 10l.94 2.06.94-2.06 2.06-.94-2.06-.94-.94-2.06-.94 2.06-2.06.94z\"/><path d=\"M17.41 7.96l-1.37-1.37c-.4-.4-.92-.59-1.43-.59-.52 0-1.04.2-1.43.59L10.3 9.45l-7.72 7.72c-.78.78-.78 2.05 0 2.83L4 21.41c.39.39.9.59 1.41.59.51 0 1.02-.2 1.41-.59l7.78-7.78 2.81-2.81c.8-.78.8-2.07 0-2.86zM5.41 20L4 18.59l7.72-7.72 1.47 1.35L5.41 20z\"/>\n",
              "  </svg>\n",
              "      </button>\n",
              "      \n",
              "  <style>\n",
              "    .colab-df-container {\n",
              "      display:flex;\n",
              "      flex-wrap:wrap;\n",
              "      gap: 12px;\n",
              "    }\n",
              "\n",
              "    .colab-df-convert {\n",
              "      background-color: #E8F0FE;\n",
              "      border: none;\n",
              "      border-radius: 50%;\n",
              "      cursor: pointer;\n",
              "      display: none;\n",
              "      fill: #1967D2;\n",
              "      height: 32px;\n",
              "      padding: 0 0 0 0;\n",
              "      width: 32px;\n",
              "    }\n",
              "\n",
              "    .colab-df-convert:hover {\n",
              "      background-color: #E2EBFA;\n",
              "      box-shadow: 0px 1px 2px rgba(60, 64, 67, 0.3), 0px 1px 3px 1px rgba(60, 64, 67, 0.15);\n",
              "      fill: #174EA6;\n",
              "    }\n",
              "\n",
              "    [theme=dark] .colab-df-convert {\n",
              "      background-color: #3B4455;\n",
              "      fill: #D2E3FC;\n",
              "    }\n",
              "\n",
              "    [theme=dark] .colab-df-convert:hover {\n",
              "      background-color: #434B5C;\n",
              "      box-shadow: 0px 1px 3px 1px rgba(0, 0, 0, 0.15);\n",
              "      filter: drop-shadow(0px 1px 2px rgba(0, 0, 0, 0.3));\n",
              "      fill: #FFFFFF;\n",
              "    }\n",
              "  </style>\n",
              "\n",
              "      <script>\n",
              "        const buttonEl =\n",
              "          document.querySelector('#df-68e78649-16d7-452d-a4ab-486d5699c0cb button.colab-df-convert');\n",
              "        buttonEl.style.display =\n",
              "          google.colab.kernel.accessAllowed ? 'block' : 'none';\n",
              "\n",
              "        async function convertToInteractive(key) {\n",
              "          const element = document.querySelector('#df-68e78649-16d7-452d-a4ab-486d5699c0cb');\n",
              "          const dataTable =\n",
              "            await google.colab.kernel.invokeFunction('convertToInteractive',\n",
              "                                                     [key], {});\n",
              "          if (!dataTable) return;\n",
              "\n",
              "          const docLinkHtml = 'Like what you see? Visit the ' +\n",
              "            '<a target=\"_blank\" href=https://colab.research.google.com/notebooks/data_table.ipynb>data table notebook</a>'\n",
              "            + ' to learn more about interactive tables.';\n",
              "          element.innerHTML = '';\n",
              "          dataTable['output_type'] = 'display_data';\n",
              "          await google.colab.output.renderOutput(dataTable, element);\n",
              "          const docLink = document.createElement('div');\n",
              "          docLink.innerHTML = docLinkHtml;\n",
              "          element.appendChild(docLink);\n",
              "        }\n",
              "      </script>\n",
              "    </div>\n",
              "  </div>\n",
              "  "
            ],
            "text/plain": [
              "   Diabetes  Vegetais  Count  Count_  Percentage\n",
              "0       0.0       0.0   6322   35346    0.178860\n",
              "1       0.0       1.0  29024   35346    0.821140\n",
              "2       1.0       0.0   8610   35346    0.243592\n",
              "3       1.0       1.0  26736   35346    0.756408"
            ]
          },
          "execution_count": 54,
          "metadata": {},
          "output_type": "execute_result"
        }
      ],
      "source": [
        "Temp9 = diabetes_vg.set_index('Diabetes').join(Total_fr,rsuffix='_')\n",
        "Temp9['Percentage'] = Temp9['Count']/Temp9['Count_']\n",
        "Temp9 = Temp9.reset_index()\n",
        "Temp9"
      ]
    },
    {
      "cell_type": "code",
      "execution_count": 55,
      "metadata": {
        "id": "k4T-C-23O3Rd"
      },
      "outputs": [],
      "source": [
        "Temp9['Diabetes'] = Temp9['Diabetes'].replace({0.0:'Saudável', 1.0:'Diabético'})\n",
        "Temp9['Vegetais'] = Temp9['Vegetais'].replace({0.0:'Não',1.0:'Sim' })"
      ]
    },
    {
      "cell_type": "code",
      "execution_count": 56,
      "metadata": {
        "colab": {
          "base_uri": "https://localhost:8080/",
          "height": 897
        },
        "id": "7EBAkp65O3UY",
        "outputId": "c44e79ad-4864-4a31-a156-d8f1c3b72111"
      },
      "outputs": [
        {
          "data": {
            "image/png": "[encoded data removed]",
            "text/plain": [
              "<Figure size 1800x1080 with 1 Axes>"
            ]
          },
          "metadata": {
            "needs_background": "light"
          },
          "output_type": "display_data"
        }
      ],
      "source": [
        "plt.figure(figsize = (25,15))\n",
        "sns.barplot(x = 'Diabetes', y = 'Percentage', hue = 'Vegetais', data = Temp9, palette = 'Set2')\n",
        "plt.title(\"Diabetes x Consumo de Vegetais\")\n",
        "plt.show()"
      ]
    },
    {
      "cell_type": "markdown",
      "metadata": {
        "id": "6V5rUfndQwew"
      },
      "source": [
        "Em ambos os grupos, alto consumo de vegetais na dieta: 82,11% (não-diabéticos) e 75,64% (diabeticos). Pode ser indicativo de que a inclusão de frutas e vegetais na dieta é um conselho médico para àqueles participantes diabeticos. Também pode ser indicativo de que uma dieta com alimentos saudáveis auxilia na prevenção da doença."
      ]
    },
    {
      "cell_type": "code",
      "execution_count": 57,
      "metadata": {
        "colab": {
          "base_uri": "https://localhost:8080/"
        },
        "id": "bqMq-MFZgj_0",
        "outputId": "3ac026f5-1bcd-4aa0-89a5-6f2373739d6a"
      },
      "outputs": [
        {
          "data": {
            "text/plain": [
              "Diabetes\n",
              "0.0    35346\n",
              "1.0    35346\n",
              "dtype: int64"
            ]
          },
          "execution_count": 57,
          "metadata": {},
          "output_type": "execute_result"
        }
      ],
      "source": [
        "#Verificando que o dataset é dividido em 50% - diabéticos e 50 % pessoas que não apresentam a doença\n",
        "df_diabetes.groupby(['Diabetes']).size()"
      ]
    },
    {
      "cell_type": "code",
      "execution_count": 71,
      "metadata": {
        "colab": {
          "base_uri": "https://localhost:8080/",
          "height": 1000
        },
        "id": "sqB99WoVgkCS",
        "outputId": "b5505700-2a97-4e86-bcc1-20652c5e8f84"
      },
      "outputs": [
        {
          "data": {
            "image/png": "[encoded data removed]",
            "text/plain": [
              "<Figure size 2520x1800 with 2 Axes>"
            ]
          },
          "metadata": {
            "needs_background": "light"
          },
          "output_type": "display_data"
        }
      ],
      "source": [
        "#Correlação das Variáveis Dependentes\n",
        "corr = df_diabetes.corr()\n",
        "fig, ax = plt.subplots(figsize=(35,25)) \n",
        "sns.heatmap(corr,  annot=True, annot_kws={\"size\": 10.}, cmap=\"Set2\")\n",
        "plt.title(\"Correlação das Variáveis\")\n",
        "plt.show()"
      ]
    },
    {
      "cell_type": "code",
      "execution_count": 59,
      "metadata": {
        "colab": {
          "base_uri": "https://localhost:8080/"
        },
        "id": "hb14RKgZgkE5",
        "outputId": "1386a2c3-7063-4bf1-8beb-bf215d419fc0"
      },
      "outputs": [
        {
          "name": "stdout",
          "output_type": "stream",
          "text": [
            "Ordenação de Correlação\n"
          ]
        },
        {
          "data": {
            "text/plain": [
              "Diabetes       1.000000\n",
              "SdGeral        0.407612\n",
              "PressAlta      0.381516\n",
              "IMC            0.293373\n",
              "CholAlto       0.289213\n",
              "Idade          0.278738\n",
              "DifCaminhar    0.272646\n",
              "Renda          0.224449\n",
              "SdFisica       0.213081\n",
              "CoracaoEnf     0.211523\n",
              "Educacao       0.170481\n",
              "AtivFisica     0.158666\n",
              "Derrame        0.125427\n",
              "ColCheck       0.115382\n",
              "ConsAlcool     0.094853\n",
              "SdMental       0.087029\n",
              "Fumante        0.085999\n",
              "Vegetais       0.079293\n",
              "Frutas         0.054077\n",
              "Sexo           0.044413\n",
              "DespMedica     0.040977\n",
              "PlSaude        0.023191\n",
              "Name: Diabetes, dtype: float64"
            ]
          },
          "execution_count": 59,
          "metadata": {},
          "output_type": "execute_result"
        }
      ],
      "source": [
        "#abs() - valores absolutos\n",
        "feature_corr = df_diabetes.corr()\n",
        "print(\"Ordenação de Correlação\")\n",
        "feature_corr['Diabetes'].abs().sort_values(ascending=False)"
      ]
    },
    {
      "cell_type": "markdown",
      "metadata": {
        "id": "7RGU1ENu-uD8"
      },
      "source": [
        "Pela correlação entre as variaveis, percebe-se que os cinco fatores que mais influenciam para a diabetes são: saúde geral, pressão alta, IMC, Colesterol alto e Idade."
      ]
    }
  ],
  "metadata": {
    "colab": {
      "collapsed_sections": [],
      "name": "StackLabs_DiabetesPrediction_Graphs060422.ipynb",
      "provenance": []
    },
    "kernelspec": {
      "display_name": "Python 3",
      "name": "python3"
    },
    "language_info": {
      "codemirror_mode": {
        "name": "ipython",
        "version": 3
      },
      "file_extension": ".py",
      "mimetype": "text/x-python",
      "name": "python",
      "nbconvert_exporter": "python",
      "pygments_lexer": "ipython3",
      "version": "3.9.7"
    }
  },
  "nbformat": 4,
  "nbformat_minor": 0
}
